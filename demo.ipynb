{
 "cells": [
  {
   "cell_type": "code",
   "execution_count": 1,
   "id": "6266ba01-c9ce-45e6-9819-79580a88647a",
   "metadata": {},
   "outputs": [],
   "source": [
    "import fsspec\n",
    "\n",
    "from ipfsspec.asyn import AsyncIPFSFileSystem\n",
    "from fsspec import register_implementation\n",
    "import asyncio\n",
    "import io\n",
    "\n",
    "# register_implementation(IPFSFileSystem.protocol, IPFSFileSystem)\n",
    "register_implementation(AsyncIPFSFileSystem.protocol, AsyncIPFSFileSystem)\n",
    "\n",
    "# with fsspec.open(\"ipfs://QmZ4tDuvesekSs4qM5ZBKpXiZGun7S2CYtEZRB3DYXkjGx\", \"r\") as f:\n",
    "#     print(f.read())\n",
    "class fs:\n",
    "    ipfs = fsspec.filesystem(\"ipfs\")\n",
    "    file = fsspec.filesystem(\"file\")\n"
   ]
  },
  {
   "cell_type": "markdown",
   "id": "7484e3aa-0f67-4550-a74d-2fde212ccf3d",
   "metadata": {},
   "source": [
    "## Put"
   ]
  },
  {
   "cell_type": "markdown",
   "id": "e7231dc3-1a89-4fa5-8d76-731b91a44c79",
   "metadata": {},
   "source": [
    "#### Put File"
   ]
  },
  {
   "cell_type": "code",
   "execution_count": 48,
   "id": "4786e066-5a47-4dfa-b373-7f345fa20054",
   "metadata": {},
   "outputs": [
    {
     "data": {
      "text/plain": [
       "[{'name': '/test_put_file/yo.txt',\n",
       "  'CID': 'QmNuMqLrDoSEZeZxyPWUjFZv9HVYwmHB9n5PEwpfoJyAD6',\n",
       "  'type': 'file',\n",
       "  'size': 13}]"
      ]
     },
     "execution_count": 48,
     "metadata": {},
     "output_type": "execute_result"
    }
   ],
   "source": [
    "# put in a file and store it into test folder 'fam'\n",
    "put_file_res = fs.ipfs.put(path='test/data/input/yo.txt', rpath='/test_put_file')\n",
    "fs.ipfs.ls('/test_put_file')"
   ]
  },
  {
   "cell_type": "markdown",
   "id": "44f406e6-fb32-4331-8ed5-b09a7d227bdc",
   "metadata": {},
   "source": [
    "#### Put Folder"
   ]
  },
  {
   "cell_type": "code",
   "execution_count": 49,
   "id": "5e9e71a1-f304-4afd-a2f1-fc510d9e78f1",
   "metadata": {},
   "outputs": [
    {
     "data": {
      "text/plain": [
       "[{'name': '/test2',\n",
       "  'CID': 'Qmdgy8KEqoyU9fWdoqPTUDSYWiRsHZVxebkH7fKyJhQnW7',\n",
       "  'type': 'directory',\n",
       "  'size': 0},\n",
       " {'name': '/test_get_file',\n",
       "  'CID': 'QmQFuaEFT1pmyDmh8bx5peApmXXoA5D3CxZ1HfxBztt1cj',\n",
       "  'type': 'directory',\n",
       "  'size': 0},\n",
       " {'name': '/test_get_folder',\n",
       "  'CID': 'Qmdgy8KEqoyU9fWdoqPTUDSYWiRsHZVxebkH7fKyJhQnW7',\n",
       "  'type': 'directory',\n",
       "  'size': 0},\n",
       " {'name': '/test_put_file',\n",
       "  'CID': 'QmQFuaEFT1pmyDmh8bx5peApmXXoA5D3CxZ1HfxBztt1cj',\n",
       "  'type': 'directory',\n",
       "  'size': 0},\n",
       " {'name': '/test_put_folder',\n",
       "  'CID': 'Qmdgy8KEqoyU9fWdoqPTUDSYWiRsHZVxebkH7fKyJhQnW7',\n",
       "  'type': 'directory',\n",
       "  'size': 0},\n",
       " {'name': '/test_rm_file',\n",
       "  'CID': 'QmUNLLsPACCz1vLxQVkXqqLX5R1X345qqfHbsf67hvA3Nn',\n",
       "  'type': 'directory',\n",
       "  'size': 0}]"
      ]
     },
     "execution_count": 49,
     "metadata": {},
     "output_type": "execute_result"
    }
   ],
   "source": [
    "# put a directory and store it into test folder\n",
    "fs.ipfs.put(path='test/data/input', rpath='/test_put_folder' ,recursive=True, return_cid=False)\n",
    "fs.ipfs.ls('/')"
   ]
  },
  {
   "cell_type": "markdown",
   "id": "21f44bd4-ed2d-41d8-8fa5-f1ad43d6bb83",
   "metadata": {},
   "source": [
    "### Remove Folder"
   ]
  },
  {
   "cell_type": "code",
   "execution_count": 32,
   "id": "02c91d7f-8ada-4069-8a58-515e6f5ba6dd",
   "metadata": {},
   "outputs": [
    {
     "name": "stdout",
     "output_type": "stream",
     "text": [
      "Before:  ['/test_rm_folder/input', '/test_rm_folder/output']\n",
      "After:  []\n"
     ]
    }
   ],
   "source": [
    "\n",
    "fs.ipfs.put(path='test/data', rpath='/test_rm_folder' ,recursive=True, return_cid=False)\n",
    "print('Before: ',fs.ipfs.ls('test_rm_folder', detail=False))\n",
    "fs.ipfs.rm('/test_rm_folder')\n",
    "print('After: ',fs.ipfs.ls('test_rm_folder', detail=False))"
   ]
  },
  {
   "cell_type": "markdown",
   "id": "84a21d38-c952-4933-8add-94395198ac1c",
   "metadata": {},
   "source": [
    "### Remove File"
   ]
  },
  {
   "cell_type": "code",
   "execution_count": 30,
   "id": "30177df7-d12c-4220-bf70-6d7ba47b877a",
   "metadata": {},
   "outputs": [
    {
     "name": "stdout",
     "output_type": "stream",
     "text": [
      "Before:  ['/test_rm_file/yo.txt']\n",
      "After:  []\n"
     ]
    }
   ],
   "source": [
    "\n",
    "fs.ipfs.put(path='test/data/input/yo.txt', rpath='/test_rm_file' ,recursive=True, return_cid=False)\n",
    "print('Before: ',fs.ipfs.ls('test_rm_file', detail=False))\n",
    "fs.ipfs.rm('/test_rm_file/yo.txt')\n",
    "print('After: ',fs.ipfs.ls('test_rm_file', detail=False))"
   ]
  },
  {
   "cell_type": "markdown",
   "id": "9349a56c-af22-446e-b4d4-e79378f7d97a",
   "metadata": {},
   "source": [
    "## Get Function"
   ]
  },
  {
   "cell_type": "markdown",
   "id": "2482eb2b-1e63-407e-b5a8-e222d33a5cbd",
   "metadata": {},
   "source": [
    "#### Get Remote File"
   ]
  },
  {
   "cell_type": "code",
   "execution_count": 46,
   "id": "26252c33-ce41-4214-be91-dd80e9e4a072",
   "metadata": {},
   "outputs": [
    {
     "name": "stdout",
     "output_type": "stream",
     "text": [
      "Before:  []\n",
      "After:  ['data/yo.txt']\n"
     ]
    }
   ],
   "source": [
    "\n",
    "if fs.file.exists('test/data/yo.txt'):\n",
    "    fs.file.rm('test/data/yo.txt')\n",
    "    \n",
    "fs.ipfs.put(lpath='test/data/input/yo.txt', rpath='/test_get_file')\n",
    "print('Before: ', [p.lstrip(os.getcwd()) for p in fs.file.glob('test/data/*.txt')])\n",
    "fs.ipfs.get(rpath='/test_get_file/yo.txt', lpath='test/data',recursive=True, return_cid=False)\n",
    "print('After: ', [p.lstrip(os.getcwd()) for p in fs.file.glob('test/data/*.txt')])"
   ]
  },
  {
   "cell_type": "markdown",
   "id": "5406371e-9dfd-43cc-a3d0-65d97c5a87b5",
   "metadata": {},
   "source": [
    "#### Get Remote Folder"
   ]
  },
  {
   "cell_type": "code",
   "execution_count": 47,
   "id": "bfbf56ef-496a-4aef-ae82-5520300862bb",
   "metadata": {},
   "outputs": [
    {
     "name": "stdout",
     "output_type": "stream",
     "text": [
      "Before:  []\n",
      "After:  ['data/output/bruh.txt', 'data/output/yo.txt']\n"
     ]
    }
   ],
   "source": [
    "\n",
    "if fs.file.exists('test/data/output'):\n",
    "    fs.file.rm('test/data/output', recursive=True)\n",
    "    \n",
    "fs.ipfs.put(lpath='test/data/input', rpath='/test_get_folder')\n",
    "print('Before: ', [p.lstrip(os.getcwd()) for p in fs.file.glob('test/data/output/*.txt')])\n",
    "fs.ipfs.get(rpath='/test_get_folder', lpath='test/data/output',recursive=True, return_cid=False)\n",
    "print('After: ', [p.lstrip(os.getcwd()) for p in fs.file.glob('test/data/output/*.txt')])"
   ]
  },
  {
   "cell_type": "code",
   "execution_count": 9,
   "id": "a63f8654-62c7-431d-85e1-34dd672b90cb",
   "metadata": {},
   "outputs": [
    {
     "data": {
      "text/plain": [
       "[{'Name': 'data/bruh.txt',\n",
       "  'Hash': 'QmT9N3Kpo2qg7anf1fvNDFnheSrHat4Xu5fRte7tNG2AYH',\n",
       "  'Size': '21'},\n",
       " {'Name': 'data/yo.txt',\n",
       "  'Hash': 'QmS1xZmXxyA2WRCKPG24bx4Lve9ZMvjwJkNzp6qa3LQyDt',\n",
       "  'Size': '10'},\n",
       " {'Name': 'data',\n",
       "  'Hash': 'QmdgxwYid1bmPjN92GdAEZtUNCWonYK9Jz5chbob5BdphB',\n",
       "  'Size': '133'}]"
      ]
     },
     "execution_count": 9,
     "metadata": {},
     "output_type": "execute_result"
    }
   ],
   "source": [
    "# Put in a deirectory\n",
    "fs.put(path='test/data')"
   ]
  }
 ],
 "metadata": {
  "kernelspec": {
   "display_name": "Python 3 (ipykernel)",
   "language": "python",
   "name": "python3"
  },
  "language_info": {
   "codemirror_mode": {
    "name": "ipython",
    "version": 3
   },
   "file_extension": ".py",
   "mimetype": "text/x-python",
   "name": "python",
   "nbconvert_exporter": "python",
   "pygments_lexer": "ipython3",
   "version": "3.8.2"
  }
 },
 "nbformat": 4,
 "nbformat_minor": 5
}

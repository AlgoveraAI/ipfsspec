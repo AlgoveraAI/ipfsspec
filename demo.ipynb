{
 "cells": [
  {
   "cell_type": "code",
   "execution_count": 1,
   "id": "6266ba01-c9ce-45e6-9819-79580a88647a",
   "metadata": {},
   "outputs": [
    {
     "name": "stdout",
     "output_type": "stream",
     "text": [
      "Changed to local node\n"
     ]
    }
   ],
   "source": [
    "import fsspec\n",
    "import os\n",
    "from ipfsspec.asyn import AsyncIPFSFileSystem\n",
    "from fsspec import register_implementation\n",
    "import asyncio\n",
    "import io\n",
    "\n",
    "# register_implementation(IPFSFileSystem.protocol, IPFSFileSystem)\n",
    "register_implementation(AsyncIPFSFileSystem.protocol, AsyncIPFSFileSystem)\n",
    "\n",
    "# with fsspec.open(\"ipfs://QmZ4tDuvesekSs4qM5ZBKpXiZGun7S2CYtEZRB3DYXkjGx\", \"r\") as f:\n",
    "#     print(f.read())\n",
    "class fs:\n",
    "    ipfs = fsspec.filesystem(\"ipfs\")\n",
    "    file = fsspec.filesystem(\"file\")\n"
   ]
  },
  {
   "cell_type": "markdown",
   "id": "7484e3aa-0f67-4550-a74d-2fde212ccf3d",
   "metadata": {},
   "source": [
    "## Put"
   ]
  },
  {
   "cell_type": "markdown",
   "id": "e7231dc3-1a89-4fa5-8d76-731b91a44c79",
   "metadata": {},
   "source": [
    "#### Put File"
   ]
  },
  {
   "cell_type": "code",
   "execution_count": 2,
   "id": "4786e066-5a47-4dfa-b373-7f345fa20054",
   "metadata": {},
   "outputs": [
    {
     "data": {
      "text/plain": [
       "[{'name': '/test_put_file/yo.txt',\n",
       "  'CID': 'QmfVErUtH2gi9HB2Z9TNPzBySPBptSeJftYzoRiGaa2v4N',\n",
       "  'type': 'file',\n",
       "  'size': 10}]"
      ]
     },
     "execution_count": 2,
     "metadata": {},
     "output_type": "execute_result"
    }
   ],
   "source": [
    "# put in a file and store it into test folder 'fam'\n",
    "fs.ipfs.rm('/test_put_file')\n",
    "put_file_res = fs.ipfs.put(path='test/data/input/yo.txt', rpath='/test_put_file')\n",
    "fs.ipfs.ls('/test_put_file')"
   ]
  },
  {
   "cell_type": "markdown",
   "id": "44f406e6-fb32-4331-8ed5-b09a7d227bdc",
   "metadata": {},
   "source": [
    "#### Put Folder"
   ]
  },
  {
   "cell_type": "code",
   "execution_count": 3,
   "id": "5e9e71a1-f304-4afd-a2f1-fc510d9e78f1",
   "metadata": {},
   "outputs": [
    {
     "data": {
      "text/plain": [
       "[{'name': '/test',\n",
       "  'CID': 'QmceYP2Fvmj43jqipWj7M3Tz1ooXCpadVKXLNXuF9qmXzv',\n",
       "  'type': 'directory',\n",
       "  'size': 0},\n",
       " {'name': '/test_dataset',\n",
       "  'CID': 'QmXuV4QHUPyonn82iotczv9pWQndcUt7PFMsJWtTN2Cb1J',\n",
       "  'type': 'directory',\n",
       "  'size': 0},\n",
       " {'name': '/test_get_folder',\n",
       "  'CID': 'QmceYP2Fvmj43jqipWj7M3Tz1ooXCpadVKXLNXuF9qmXzv',\n",
       "  'type': 'directory',\n",
       "  'size': 0},\n",
       " {'name': '/test_put_file',\n",
       "  'CID': 'QmXx2fexaqo3d5E6A6pW8VtMKJSHYa19UpVaQEJbKq7md3',\n",
       "  'type': 'directory',\n",
       "  'size': 0},\n",
       " {'name': '/test_put_folder',\n",
       "  'CID': 'QmceYP2Fvmj43jqipWj7M3Tz1ooXCpadVKXLNXuF9qmXzv',\n",
       "  'type': 'directory',\n",
       "  'size': 0},\n",
       " {'name': '/test_rm_file',\n",
       "  'CID': 'QmUNLLsPACCz1vLxQVkXqqLX5R1X345qqfHbsf67hvA3Nn',\n",
       "  'type': 'directory',\n",
       "  'size': 0}]"
      ]
     },
     "execution_count": 3,
     "metadata": {},
     "output_type": "execute_result"
    }
   ],
   "source": [
    "# put a directory and store it into test folder\n",
    "fs.ipfs.put(path='test/data/input', rpath='/test_put_folder' ,recursive=True, return_cid=False)\n",
    "fs.ipfs.ls('/')"
   ]
  },
  {
   "cell_type": "markdown",
   "id": "769893e1-6680-423a-a56c-805dbb190c07",
   "metadata": {},
   "source": [
    "## Cat "
   ]
  },
  {
   "cell_type": "code",
   "execution_count": 4,
   "id": "ed380c2c-6083-488b-9649-2ccd70e142c5",
   "metadata": {},
   "outputs": [
    {
     "data": {
      "text/plain": [
       "[{'name': '/test_put_folder/bruh.txt',\n",
       "  'CID': 'QmT9N3Kpo2qg7anf1fvNDFnheSrHat4Xu5fRte7tNG2AYH',\n",
       "  'type': 'file',\n",
       "  'size': 13},\n",
       " {'name': '/test_put_folder/yo.txt',\n",
       "  'CID': 'QmfVErUtH2gi9HB2Z9TNPzBySPBptSeJftYzoRiGaa2v4N',\n",
       "  'type': 'file',\n",
       "  'size': 10}]"
      ]
     },
     "execution_count": 4,
     "metadata": {},
     "output_type": "execute_result"
    }
   ],
   "source": [
    "fs.ipfs.ls('/test_put_folder')"
   ]
  },
  {
   "cell_type": "code",
   "execution_count": 5,
   "id": "f6b3e438-b2a2-4ce9-ac26-cd9e00b6cf29",
   "metadata": {},
   "outputs": [
    {
     "name": "stdout",
     "output_type": "stream",
     "text": [
      "b'yooooooooo'\n",
      "b'yooooooooo'\n"
     ]
    }
   ],
   "source": [
    "# file\n",
    "print(fs.ipfs.cat_file('/test_put_folder/yo.txt'))\n",
    "print(fs.ipfs.cat_file('QmfVErUtH2gi9HB2Z9TNPzBySPBptSeJftYzoRiGaa2v4N'))"
   ]
  },
  {
   "cell_type": "code",
   "execution_count": 6,
   "id": "7dc0e1d7-8f5f-4360-806a-872f50d53c2d",
   "metadata": {},
   "outputs": [
    {
     "name": "stdout",
     "output_type": "stream",
     "text": [
      "{'Qmdgy8KEqoyU9fWdoqPTUDSYWiRsHZVxebkH7fKyJhQnW7/bruh.txt': b'bruuhhhhhhhhh', 'Qmdgy8KEqoyU9fWdoqPTUDSYWiRsHZVxebkH7fKyJhQnW7/yo.txt': b'yofvervevdfvd'}\n",
      "{'/test_put_folder/bruh.txt': b'bruuhhhhhhhhh', '/test_put_folder/yo.txt': b'yooooooooo'}\n"
     ]
    }
   ],
   "source": [
    "# folder\n",
    "print(fs.ipfs.cat('Qmdgy8KEqoyU9fWdoqPTUDSYWiRsHZVxebkH7fKyJhQnW7'))\n",
    "print(fs.ipfs.cat('/test_put_folder'))"
   ]
  },
  {
   "cell_type": "markdown",
   "id": "21f44bd4-ed2d-41d8-8fa5-f1ad43d6bb83",
   "metadata": {},
   "source": [
    "### Remove Folder"
   ]
  },
  {
   "cell_type": "code",
   "execution_count": 7,
   "id": "02c91d7f-8ada-4069-8a58-515e6f5ba6dd",
   "metadata": {},
   "outputs": [
    {
     "name": "stdout",
     "output_type": "stream",
     "text": [
      "QmceYP2Fvmj43jqipWj7M3Tz1ooXCpadVKXLNXuF9qmXzv\n",
      "Before:  ['/test_rm_folder/bruh.txt', '/test_rm_folder/yo.txt']\n",
      "After:  []\n"
     ]
    }
   ],
   "source": [
    "\n",
    "print(fs.ipfs.put(path='test/data/input', rpath='/test_rm_folder' ,recursive=True, return_cid=True))\n",
    "print('Before: ',fs.ipfs.ls('/test_rm_folder', detail=False))\n",
    "fs.ipfs.rm('/test_rm_folder')\n",
    "print('After: ',fs.ipfs.ls('/test_rm_folder', detail=False))"
   ]
  },
  {
   "cell_type": "markdown",
   "id": "84a21d38-c952-4933-8add-94395198ac1c",
   "metadata": {},
   "source": [
    "### Remove File"
   ]
  },
  {
   "cell_type": "code",
   "execution_count": 8,
   "id": "30177df7-d12c-4220-bf70-6d7ba47b877a",
   "metadata": {},
   "outputs": [
    {
     "name": "stdout",
     "output_type": "stream",
     "text": [
      "Before:  ['/test_rm_file/yo.txt']\n",
      "After:  []\n"
     ]
    }
   ],
   "source": [
    "\n",
    "fs.ipfs.put(path='test/data/input/yo.txt', rpath='/test_rm_file' ,recursive=True, return_cid=False)\n",
    "print('Before: ',fs.ipfs.ls('/test_rm_file', detail=False))\n",
    "fs.ipfs.rm('/test_rm_file/yo.txt')\n",
    "print('After: ',fs.ipfs.ls('/test_rm_file', detail=False))"
   ]
  },
  {
   "cell_type": "markdown",
   "id": "9349a56c-af22-446e-b4d4-e79378f7d97a",
   "metadata": {},
   "source": [
    "## Get Function"
   ]
  },
  {
   "cell_type": "markdown",
   "id": "2482eb2b-1e63-407e-b5a8-e222d33a5cbd",
   "metadata": {},
   "source": [
    "#### Get Remote File"
   ]
  },
  {
   "cell_type": "code",
   "execution_count": 9,
   "id": "26252c33-ce41-4214-be91-dd80e9e4a072",
   "metadata": {},
   "outputs": [
    {
     "name": "stdout",
     "output_type": "stream",
     "text": [
      "Before:  ['test/data/bruh.txt']\n",
      "After:  ['test/data/bruh.txt', 'test/data/yo.txt']\n"
     ]
    },
    {
     "data": {
      "text/plain": [
       "['/test_get_file']"
      ]
     },
     "execution_count": 9,
     "metadata": {},
     "output_type": "execute_result"
    }
   ],
   "source": [
    "\n",
    "if fs.file.exists('test/data/yo.txt'):\n",
    "    fs.file.rm('test/data/yo.txt')\n",
    "    \n",
    "fs.ipfs.put(path='test/data/input/yo.txt', rpath='/test_get_file' ,recursive=True, return_cid=False)\n",
    "print('Before: ', [p.lstrip(os.getcwd()) for p in fs.file.glob('test/data/*.txt')])\n",
    "fs.ipfs.get(rpath='/test_get_file/yo.txt', lpath='test/data/yo.txt',recursive=True, return_cid=False)\n",
    "print('After: ', [p.lstrip(os.getcwd()) for p in fs.file.glob('test/data/*.txt')])\n",
    "fs.ipfs.rm('/test_get_file')"
   ]
  },
  {
   "cell_type": "code",
   "execution_count": 10,
   "id": "62dccc8c-d6d8-4149-8d66-192a0202acc9",
   "metadata": {},
   "outputs": [
    {
     "data": {
      "text/plain": [
       "['/test_get_file']"
      ]
     },
     "execution_count": 10,
     "metadata": {},
     "output_type": "execute_result"
    }
   ],
   "source": [
    "fs.ipfs.rm('/test_get_file')"
   ]
  },
  {
   "cell_type": "markdown",
   "id": "5406371e-9dfd-43cc-a3d0-65d97c5a87b5",
   "metadata": {},
   "source": [
    "#### Get Remote Folder"
   ]
  },
  {
   "cell_type": "code",
   "execution_count": 11,
   "id": "bfbf56ef-496a-4aef-ae82-5520300862bb",
   "metadata": {},
   "outputs": [
    {
     "name": "stdout",
     "output_type": "stream",
     "text": [
      "Before:  []\n",
      "After:  ['test/data/output/bruh.txt', 'test/data/output/yo.txt']\n"
     ]
    }
   ],
   "source": [
    "\n",
    "if fs.file.exists('test/data/output'):\n",
    "    fs.file.rm('test/data/output', recursive=True)\n",
    "    \n",
    "fs.ipfs.put(lpath='test/data/input', rpath='/test_get_folder')\n",
    "print('Before: ', [p.lstrip(os.getcwd()) for p in fs.file.glob('test/data/output/*.txt')])\n",
    "fs.ipfs.get(rpath='/test_get_folder', lpath='test/data/output',recursive=True, return_cid=False)\n",
    "print('After: ', [p.lstrip(os.getcwd()) for p in fs.file.glob('test/data/output/*.txt')])"
   ]
  }
 ],
 "metadata": {
  "kernelspec": {
   "display_name": "Python 3 (ipykernel)",
   "language": "python",
   "name": "python3"
  },
  "language_info": {
   "codemirror_mode": {
    "name": "ipython",
    "version": 3
   },
   "file_extension": ".py",
   "mimetype": "text/x-python",
   "name": "python",
   "nbconvert_exporter": "python",
   "pygments_lexer": "ipython3",
   "version": "3.8.2"
  }
 },
 "nbformat": 4,
 "nbformat_minor": 5
}

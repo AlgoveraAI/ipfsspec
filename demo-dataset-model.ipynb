{
 "cells": [
  {
   "cell_type": "code",
   "execution_count": 1,
   "id": "ae35d6c0",
   "metadata": {},
   "outputs": [
    {
     "name": "stdout",
     "output_type": "stream",
     "text": [
      "Changed to public node\n"
     ]
    }
   ],
   "source": [
    "import fsspec\n",
    "import os\n",
    "from ipfsspec.asyn import AsyncIPFSFileSystem\n",
    "from fsspec import register_implementation\n",
    "import asyncio\n",
    "import io\n",
    "\n",
    "# register_implementation(IPFSFileSystem.protocol, IPFSFileSystem)\n",
    "register_implementation(AsyncIPFSFileSystem.protocol, AsyncIPFSFileSystem)\n",
    "\n",
    "# with fsspec.open(\"ipfs://QmZ4tDuvesekSs4qM5ZBKpXiZGun7S2CYtEZRB3DYXkjGx\", \"r\") as f:\n",
    "#     print(f.read())\n",
    "class fs:\n",
    "    ipfs = fsspec.filesystem(\"ipfs\")\n",
    "    file = fsspec.filesystem(\"file\")"
   ]
  },
  {
   "cell_type": "code",
   "execution_count": 2,
   "id": "9940a5d5",
   "metadata": {},
   "outputs": [
    {
     "name": "stdout",
     "output_type": "stream",
     "text": [
      "Changed to local node\n"
     ]
    }
   ],
   "source": [
    "fs.ipfs.change_gateway_type = 'local'"
   ]
  },
  {
   "cell_type": "markdown",
   "id": "dc008528",
   "metadata": {},
   "source": [
    "## Adding a csv dataset to IPFS"
   ]
  },
  {
   "cell_type": "code",
   "execution_count": 3,
   "id": "8791b11c",
   "metadata": {},
   "outputs": [
    {
     "data": {
      "text/plain": [
       "'QmZnxARhJWsCbTxiAzoRhnxHgMtoEkNJNS8DGLCBEMvm4V'"
      ]
     },
     "execution_count": 3,
     "metadata": {},
     "output_type": "execute_result"
    }
   ],
   "source": [
    "fs.ipfs.put(path='test/data/dataset/input/adult_data.csv', rpath='/test_dataset')"
   ]
  },
  {
   "cell_type": "markdown",
   "id": "39a69f50",
   "metadata": {},
   "source": [
    "## Retrieving a dataset from IPFS"
   ]
  },
  {
   "cell_type": "code",
   "execution_count": 4,
   "id": "865d2733",
   "metadata": {},
   "outputs": [
    {
     "name": "stdout",
     "output_type": "stream",
     "text": [
      "Before:  []\n",
      "After:  ['data/dataset/output/adult_data.csv']\n"
     ]
    }
   ],
   "source": [
    "if fs.file.exists('test/data/dataset/output/adult_data.csv'):\n",
    "    fs.file.rm('test/data/dataset/output/adult_data.csv', recursive=True)\n",
    "    \n",
    "print('Before: ', [p.lstrip(os.getcwd()) for p in fs.file.glob('test/data/dataset/output/*')])\n",
    "\n",
    "fs.ipfs.get(rpath='QmZnxARhJWsCbTxiAzoRhnxHgMtoEkNJNS8DGLCBEMvm4V', \n",
    "            lpath='test/data/dataset/output/adult_data.csv', # a filename must be given\n",
    "            recursive=True, \n",
    "            return_cid=False)\n",
    "\n",
    "print('After: ', [p.lstrip(os.getcwd()) for p in fs.file.glob('test/data/dataset/output/*')])"
   ]
  },
  {
   "cell_type": "markdown",
   "id": "d6d8b459",
   "metadata": {},
   "source": [
    "## Building a tabular model"
   ]
  },
  {
   "cell_type": "code",
   "execution_count": 5,
   "id": "dfa0bbc5",
   "metadata": {
    "scrolled": true
   },
   "outputs": [],
   "source": [
    "from fastai.tabular.all import *"
   ]
  },
  {
   "cell_type": "code",
   "execution_count": 6,
   "id": "74db0bfb",
   "metadata": {},
   "outputs": [],
   "source": [
    "df = pd.read_csv('test/data/dataset/output/adult_data.csv')"
   ]
  },
  {
   "cell_type": "code",
   "execution_count": 14,
   "id": "a0e0f76f",
   "metadata": {},
   "outputs": [],
   "source": [
    "df.columns = [col.strip() for col in df.columns]"
   ]
  },
  {
   "cell_type": "code",
   "execution_count": 15,
   "id": "07c9d55d",
   "metadata": {},
   "outputs": [],
   "source": [
    "splits = RandomSplitter()(range_of(df))\n",
    "cat_names = ['workclass', 'education', 'marital-status', 'occupation', 'relationship', 'race']\n",
    "cont_names = ['age', 'fnlwgt', 'education-num']\n",
    "procs = [Categorify, FillMissing, Normalize]\n",
    "y_names = 'salary'\n",
    "y_block = CategoryBlock()"
   ]
  },
  {
   "cell_type": "code",
   "execution_count": 16,
   "id": "5958d41c",
   "metadata": {},
   "outputs": [],
   "source": [
    "to = TabularPandas(df, procs=procs, cat_names=cat_names, cont_names=cont_names,\n",
    "                   y_names=y_names, y_block=y_block, splits=splits)"
   ]
  },
  {
   "cell_type": "code",
   "execution_count": 19,
   "id": "dcb98423",
   "metadata": {},
   "outputs": [],
   "source": [
    "dls = to.dataloaders(bs=64)"
   ]
  },
  {
   "cell_type": "code",
   "execution_count": 20,
   "id": "d9d73745",
   "metadata": {},
   "outputs": [],
   "source": [
    "learn = tabular_learner(dls, [200,100], metrics=accuracy)"
   ]
  },
  {
   "cell_type": "code",
   "execution_count": 21,
   "id": "17d388c8",
   "metadata": {},
   "outputs": [
    {
     "data": {
      "text/html": [
       "\n",
       "<style>\n",
       "    /* Turns off some styling */\n",
       "    progress {\n",
       "        /* gets rid of default border in Firefox and Opera. */\n",
       "        border: none;\n",
       "        /* Needs to be in here for Safari polyfill so background images work as expected. */\n",
       "        background-size: auto;\n",
       "    }\n",
       "    .progress-bar-interrupted, .progress-bar-interrupted::-webkit-progress-bar {\n",
       "        background: #F44336;\n",
       "    }\n",
       "</style>\n"
      ],
      "text/plain": [
       "<IPython.core.display.HTML object>"
      ]
     },
     "metadata": {},
     "output_type": "display_data"
    },
    {
     "data": {
      "text/html": [
       "<table border=\"1\" class=\"dataframe\">\n",
       "  <thead>\n",
       "    <tr style=\"text-align: left;\">\n",
       "      <th>epoch</th>\n",
       "      <th>train_loss</th>\n",
       "      <th>valid_loss</th>\n",
       "      <th>accuracy</th>\n",
       "      <th>time</th>\n",
       "    </tr>\n",
       "  </thead>\n",
       "  <tbody>\n",
       "    <tr>\n",
       "      <td>0</td>\n",
       "      <td>0.384998</td>\n",
       "      <td>0.358777</td>\n",
       "      <td>0.835995</td>\n",
       "      <td>00:02</td>\n",
       "    </tr>\n",
       "    <tr>\n",
       "      <td>1</td>\n",
       "      <td>0.361840</td>\n",
       "      <td>0.360575</td>\n",
       "      <td>0.830774</td>\n",
       "      <td>00:02</td>\n",
       "    </tr>\n",
       "    <tr>\n",
       "      <td>2</td>\n",
       "      <td>0.346744</td>\n",
       "      <td>0.349264</td>\n",
       "      <td>0.838606</td>\n",
       "      <td>00:02</td>\n",
       "    </tr>\n",
       "  </tbody>\n",
       "</table>"
      ],
      "text/plain": [
       "<IPython.core.display.HTML object>"
      ]
     },
     "metadata": {},
     "output_type": "display_data"
    }
   ],
   "source": [
    "learn.fit_one_cycle(3, 1e-3)"
   ]
  },
  {
   "cell_type": "code",
   "execution_count": 25,
   "id": "f7791c17",
   "metadata": {},
   "outputs": [],
   "source": [
    "learn.export('test/data/model/input/testmodel.pkl')"
   ]
  },
  {
   "cell_type": "markdown",
   "id": "40812560",
   "metadata": {},
   "source": [
    "## Adding model+config_files to IPFS"
   ]
  },
  {
   "cell_type": "code",
   "execution_count": 26,
   "id": "9b93a9df",
   "metadata": {},
   "outputs": [
    {
     "data": {
      "text/plain": [
       "'QmdNQoVqNvRg6kW4tvdoQcMjxCd8p79AmDfi2fjbQcpoDz'"
      ]
     },
     "execution_count": 26,
     "metadata": {},
     "output_type": "execute_result"
    }
   ],
   "source": [
    "fs.ipfs.put(path='test/data/model/input/testmodel.pkl', rpath='/test_model')"
   ]
  },
  {
   "cell_type": "markdown",
   "id": "0348227f",
   "metadata": {},
   "source": [
    "## Retrieving model+config_files from IPFS"
   ]
  },
  {
   "cell_type": "code",
   "execution_count": 28,
   "id": "af76cbe3",
   "metadata": {},
   "outputs": [
    {
     "name": "stdout",
     "output_type": "stream",
     "text": [
      "Before:  []\n",
      "After:  ['data/model/output/testmodel.pkl']\n"
     ]
    }
   ],
   "source": [
    "if fs.file.exists('test/data/model/output/testmodel.pkl'):\n",
    "    fs.file.rm('test/data/model/output/testmodel.pkl', recursive=True)\n",
    "    \n",
    "print('Before: ', [p.lstrip(os.getcwd()) for p in fs.file.glob('test/data/model/output/*')])\n",
    "\n",
    "fs.ipfs.get(rpath='QmdNQoVqNvRg6kW4tvdoQcMjxCd8p79AmDfi2fjbQcpoDz', \n",
    "            lpath='test/data/model/output/testmodel.pkl', # a filename must be given\n",
    "            recursive=True, \n",
    "            return_cid=False)\n",
    "\n",
    "print('After: ', [p.lstrip(os.getcwd()) for p in fs.file.glob('test/data/model/output/*')])"
   ]
  },
  {
   "cell_type": "markdown",
   "id": "3edffc2c",
   "metadata": {},
   "source": [
    "## Doing inference with retrieved model"
   ]
  },
  {
   "cell_type": "code",
   "execution_count": 34,
   "id": "2953c62a",
   "metadata": {},
   "outputs": [],
   "source": [
    "learn = load_learner('test/data/model/output/testmodel.pkl')"
   ]
  },
  {
   "cell_type": "code",
   "execution_count": 37,
   "id": "8820c1e6",
   "metadata": {},
   "outputs": [],
   "source": [
    "dl = learn.dls.test_dl(df.iloc[:10])"
   ]
  },
  {
   "cell_type": "code",
   "execution_count": 38,
   "id": "43cf7998",
   "metadata": {},
   "outputs": [
    {
     "data": {
      "text/html": [
       "\n",
       "<style>\n",
       "    /* Turns off some styling */\n",
       "    progress {\n",
       "        /* gets rid of default border in Firefox and Opera. */\n",
       "        border: none;\n",
       "        /* Needs to be in here for Safari polyfill so background images work as expected. */\n",
       "        background-size: auto;\n",
       "    }\n",
       "    .progress-bar-interrupted, .progress-bar-interrupted::-webkit-progress-bar {\n",
       "        background: #F44336;\n",
       "    }\n",
       "</style>\n"
      ],
      "text/plain": [
       "<IPython.core.display.HTML object>"
      ]
     },
     "metadata": {},
     "output_type": "display_data"
    },
    {
     "data": {
      "text/html": [],
      "text/plain": [
       "<IPython.core.display.HTML object>"
      ]
     },
     "metadata": {},
     "output_type": "display_data"
    },
    {
     "data": {
      "text/plain": [
       "(tensor([[0.8989, 0.1011],\n",
       "         [0.3198, 0.6802],\n",
       "         [0.9739, 0.0261],\n",
       "         [0.8690, 0.1310],\n",
       "         [0.3574, 0.6426],\n",
       "         [0.1215, 0.8785],\n",
       "         [0.9760, 0.0240],\n",
       "         [0.5097, 0.4903],\n",
       "         [0.8273, 0.1727],\n",
       "         [0.1295, 0.8705]]),\n",
       " tensor([[0],\n",
       "         [0],\n",
       "         [0],\n",
       "         [0],\n",
       "         [0],\n",
       "         [0],\n",
       "         [0],\n",
       "         [1],\n",
       "         [1],\n",
       "         [1]], dtype=torch.int8))"
      ]
     },
     "execution_count": 38,
     "metadata": {},
     "output_type": "execute_result"
    }
   ],
   "source": [
    "learn.get_preds(dl=dl)"
   ]
  },
  {
   "cell_type": "code",
   "execution_count": null,
   "id": "413c1125",
   "metadata": {},
   "outputs": [],
   "source": []
  }
 ],
 "metadata": {
  "kernelspec": {
   "display_name": "Python 3 (ipykernel)",
   "language": "python",
   "name": "python3"
  },
  "language_info": {
   "codemirror_mode": {
    "name": "ipython",
    "version": 3
   },
   "file_extension": ".py",
   "mimetype": "text/x-python",
   "name": "python",
   "nbconvert_exporter": "python",
   "pygments_lexer": "ipython3",
   "version": "3.8.10"
  }
 },
 "nbformat": 4,
 "nbformat_minor": 5
}

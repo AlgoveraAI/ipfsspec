{
 "cells": [
  {
   "cell_type": "code",
   "execution_count": 4,
   "id": "6266ba01-c9ce-45e6-9819-79580a88647a",
   "metadata": {},
   "outputs": [],
   "source": [
    "import fsspec\n",
    "import os\n",
    "from ipfsspec.asyn import AsyncIPFSFileSystem\n",
    "from fsspec import register_implementation\n",
    "import asyncio\n",
    "import io\n",
    "\n",
    "# register_implementation(IPFSFileSystem.protocol, IPFSFileSystem)\n",
    "register_implementation(AsyncIPFSFileSystem.protocol, AsyncIPFSFileSystem)\n",
    "\n",
    "# with fsspec.open(\"ipfs://QmZ4tDuvesekSs4qM5ZBKpXiZGun7S2CYtEZRB3DYXkjGx\", \"r\") as f:\n",
    "#     print(f.read())\n",
    "class fs:\n",
    "    ipfs = fsspec.filesystem(\"ipfs\")\n",
    "    file = fsspec.filesystem(\"file\")"
   ]
  },
  {
   "cell_type": "markdown",
   "id": "35a5a479",
   "metadata": {},
   "source": [
    "# Changing Gateways"
   ]
  },
  {
   "cell_type": "code",
   "execution_count": 5,
   "id": "83fadcc1",
   "metadata": {},
   "outputs": [
    {
     "name": "stdout",
     "output_type": "stream",
     "text": [
      "Changed to public node\n"
     ]
    }
   ],
   "source": [
    "fs.ipfs.change_gateway_type = 'public'"
   ]
  },
  {
   "cell_type": "code",
   "execution_count": 6,
   "id": "e471c580",
   "metadata": {},
   "outputs": [
    {
     "data": {
      "text/plain": [
       "[(<ipfsspec.gateway.GatewayState at 0x7fbe55412d60>,\n",
       "  <ipfsspec.gateway.AsyncIPFSGateway at 0x7fbe55412d00>),\n",
       " (<ipfsspec.gateway.GatewayState at 0x7fbe55412c40>,\n",
       "  <ipfsspec.gateway.AsyncIPFSGateway at 0x7fbe55412ac0>),\n",
       " (<ipfsspec.gateway.GatewayState at 0x7fbe55412fa0>,\n",
       "  <ipfsspec.gateway.AsyncIPFSGateway at 0x7fbe55412e50>),\n",
       " (<ipfsspec.gateway.GatewayState at 0x7fbe55412ee0>,\n",
       "  <ipfsspec.gateway.AsyncIPFSGateway at 0x7fbe55412df0>)]"
      ]
     },
     "execution_count": 6,
     "metadata": {},
     "output_type": "execute_result"
    }
   ],
   "source": [
    "fs.ipfs.gateway.gws"
   ]
  },
  {
   "cell_type": "code",
   "execution_count": 7,
   "id": "806d4d5e",
   "metadata": {},
   "outputs": [
    {
     "data": {
      "text/plain": [
       "'https://ipfs.io'"
      ]
     },
     "execution_count": 7,
     "metadata": {},
     "output_type": "execute_result"
    }
   ],
   "source": [
    "fs.ipfs.gateway.gws[0][1].url"
   ]
  },
  {
   "cell_type": "code",
   "execution_count": 8,
   "id": "d0886858",
   "metadata": {},
   "outputs": [
    {
     "name": "stdout",
     "output_type": "stream",
     "text": [
      "Changed to local node\n"
     ]
    }
   ],
   "source": [
    "fs.ipfs.change_gateway_type = 'local'"
   ]
  },
  {
   "cell_type": "code",
   "execution_count": 9,
   "id": "b11c7527",
   "metadata": {},
   "outputs": [
    {
     "data": {
      "text/plain": [
       "'http://127.0.0.1:8080'"
      ]
     },
     "execution_count": 9,
     "metadata": {},
     "output_type": "execute_result"
    }
   ],
   "source": [
    "fs.ipfs.gateway.gws[0][1].url"
   ]
  },
  {
   "cell_type": "markdown",
   "id": "6c438925",
   "metadata": {},
   "source": [
    "# Local"
   ]
  },
  {
   "cell_type": "markdown",
   "id": "7484e3aa-0f67-4550-a74d-2fde212ccf3d",
   "metadata": {},
   "source": [
    "## Put"
   ]
  },
  {
   "cell_type": "markdown",
   "id": "e7231dc3-1a89-4fa5-8d76-731b91a44c79",
   "metadata": {},
   "source": [
    "#### Put File"
   ]
  },
  {
   "cell_type": "code",
   "execution_count": 10,
   "id": "4786e066-5a47-4dfa-b373-7f345fa20054",
   "metadata": {},
   "outputs": [
    {
     "data": {
      "text/plain": [
       "[{'name': '/test_put_file/yo.txt',\n",
       "  'CID': 'QmNuMqLrDoSEZeZxyPWUjFZv9HVYwmHB9n5PEwpfoJyAD6',\n",
       "  'type': 'file',\n",
       "  'size': 13}]"
      ]
     },
     "execution_count": 10,
     "metadata": {},
     "output_type": "execute_result"
    }
   ],
   "source": [
    "# put in a file and store it into test folder 'fam'\n",
    "put_file_res = fs.ipfs.put(path='test/data/input/yo.txt', rpath='/test_put_file')\n",
    "fs.ipfs.ls('/test_put_file')"
   ]
  },
  {
   "cell_type": "markdown",
   "id": "44f406e6-fb32-4331-8ed5-b09a7d227bdc",
   "metadata": {},
   "source": [
    "#### Put Folder"
   ]
  },
  {
   "cell_type": "code",
   "execution_count": 11,
   "id": "5e9e71a1-f304-4afd-a2f1-fc510d9e78f1",
   "metadata": {},
   "outputs": [
    {
     "data": {
      "text/plain": [
       "[{'name': '/test_get_file',\n",
       "  'CID': 'QmQFuaEFT1pmyDmh8bx5peApmXXoA5D3CxZ1HfxBztt1cj',\n",
       "  'type': 'directory',\n",
       "  'size': 0},\n",
       " {'name': '/test_get_folder',\n",
       "  'CID': 'Qmdgy8KEqoyU9fWdoqPTUDSYWiRsHZVxebkH7fKyJhQnW7',\n",
       "  'type': 'directory',\n",
       "  'size': 0},\n",
       " {'name': '/test_put_file',\n",
       "  'CID': 'QmQFuaEFT1pmyDmh8bx5peApmXXoA5D3CxZ1HfxBztt1cj',\n",
       "  'type': 'directory',\n",
       "  'size': 0},\n",
       " {'name': '/test_put_folder',\n",
       "  'CID': 'Qmdgy8KEqoyU9fWdoqPTUDSYWiRsHZVxebkH7fKyJhQnW7',\n",
       "  'type': 'directory',\n",
       "  'size': 0},\n",
       " {'name': '/test_rm_file',\n",
       "  'CID': 'QmUNLLsPACCz1vLxQVkXqqLX5R1X345qqfHbsf67hvA3Nn',\n",
       "  'type': 'directory',\n",
       "  'size': 0}]"
      ]
     },
     "execution_count": 11,
     "metadata": {},
     "output_type": "execute_result"
    }
   ],
   "source": [
    "# put a directory and store it into test folder\n",
    "fs.ipfs.put(path='test/data/input', rpath='/test_put_folder' ,recursive=True, return_cid=False)\n",
    "fs.ipfs.ls('/')"
   ]
  },
  {
   "cell_type": "markdown",
   "id": "4f9fb7e4",
   "metadata": {},
   "source": [
    "## Cat"
   ]
  },
  {
   "cell_type": "markdown",
   "id": "251147d9",
   "metadata": {},
   "source": [
    "#### Cat File"
   ]
  },
  {
   "cell_type": "code",
   "execution_count": 12,
   "id": "8f04aeab",
   "metadata": {},
   "outputs": [
    {
     "data": {
      "text/plain": [
       "b'yofvervevdfvd'"
      ]
     },
     "execution_count": 12,
     "metadata": {},
     "output_type": "execute_result"
    }
   ],
   "source": [
    "# Given a file CID to cat\n",
    "fs.ipfs.cat('QmNuMqLrDoSEZeZxyPWUjFZv9HVYwmHB9n5PEwpfoJyAD6')"
   ]
  },
  {
   "cell_type": "code",
   "execution_count": 13,
   "id": "396f964b",
   "metadata": {},
   "outputs": [
    {
     "data": {
      "text/plain": [
       "b'yofvervevdfvd'"
      ]
     },
     "execution_count": 13,
     "metadata": {},
     "output_type": "execute_result"
    }
   ],
   "source": [
    "# Given a file mfs to cat\n",
    "fs.ipfs.cat('/test_put_file/yo.txt')"
   ]
  },
  {
   "cell_type": "markdown",
   "id": "f2603f4f",
   "metadata": {},
   "source": [
    "#### Cat Folder"
   ]
  },
  {
   "cell_type": "code",
   "execution_count": 14,
   "id": "d44e40e2",
   "metadata": {},
   "outputs": [
    {
     "data": {
      "text/plain": [
       "{'Qmdgy8KEqoyU9fWdoqPTUDSYWiRsHZVxebkH7fKyJhQnW7/bruh.txt': b'bruuhhhhhhhhh',\n",
       " 'Qmdgy8KEqoyU9fWdoqPTUDSYWiRsHZVxebkH7fKyJhQnW7/yo.txt': b'yofvervevdfvd'}"
      ]
     },
     "execution_count": 14,
     "metadata": {},
     "output_type": "execute_result"
    }
   ],
   "source": [
    "# Given a directory CID to cat\n",
    "fs.ipfs.cat('Qmdgy8KEqoyU9fWdoqPTUDSYWiRsHZVxebkH7fKyJhQnW7')"
   ]
  },
  {
   "cell_type": "code",
   "execution_count": 15,
   "id": "db8c9954",
   "metadata": {},
   "outputs": [
    {
     "data": {
      "text/plain": [
       "{'/test_put_folder/bruh.txt': b'bruuhhhhhhhhh',\n",
       " '/test_put_folder/yo.txt': b'yofvervevdfvd'}"
      ]
     },
     "execution_count": 15,
     "metadata": {},
     "output_type": "execute_result"
    }
   ],
   "source": [
    "# Given a file mfs to cat\n",
    "fs.ipfs.cat('/test_put_folder')"
   ]
  },
  {
   "cell_type": "markdown",
   "id": "6cf8ea27",
   "metadata": {},
   "source": [
    "## Remove"
   ]
  },
  {
   "cell_type": "markdown",
   "id": "84a21d38-c952-4933-8add-94395198ac1c",
   "metadata": {},
   "source": [
    "#### Remove File"
   ]
  },
  {
   "cell_type": "code",
   "execution_count": 16,
   "id": "30177df7-d12c-4220-bf70-6d7ba47b877a",
   "metadata": {},
   "outputs": [
    {
     "name": "stdout",
     "output_type": "stream",
     "text": [
      "Before:  ['/test_rm_file/yo.txt']\n",
      "After:  []\n"
     ]
    }
   ],
   "source": [
    "fs.ipfs.put(path='test/data/input/yo.txt', rpath='/test_rm_file' ,recursive=True, return_cid=False)\n",
    "print('Before: ',fs.ipfs.ls('test_rm_file', detail=False))\n",
    "fs.ipfs.rm('/test_rm_file/yo.txt')\n",
    "print('After: ',fs.ipfs.ls('test_rm_file', detail=False))"
   ]
  },
  {
   "cell_type": "markdown",
   "id": "21f44bd4-ed2d-41d8-8fa5-f1ad43d6bb83",
   "metadata": {},
   "source": [
    "#### Remove Folder"
   ]
  },
  {
   "cell_type": "code",
   "execution_count": 17,
   "id": "02c91d7f-8ada-4069-8a58-515e6f5ba6dd",
   "metadata": {},
   "outputs": [
    {
     "name": "stdout",
     "output_type": "stream",
     "text": [
      "Before:  ['/test_rm_folder/input', '/test_rm_folder/output']\n",
      "After:  []\n"
     ]
    }
   ],
   "source": [
    "fs.ipfs.put(path='test/data', rpath='/test_rm_folder', recursive=True, return_cid=False)\n",
    "print('Before: ',fs.ipfs.ls('test_rm_folder', detail=False))\n",
    "fs.ipfs.rm('/test_rm_folder')\n",
    "print('After: ',fs.ipfs.ls('test_rm_folder', detail=False))"
   ]
  },
  {
   "cell_type": "markdown",
   "id": "9349a56c-af22-446e-b4d4-e79378f7d97a",
   "metadata": {},
   "source": [
    "## Get"
   ]
  },
  {
   "cell_type": "markdown",
   "id": "2482eb2b-1e63-407e-b5a8-e222d33a5cbd",
   "metadata": {},
   "source": [
    "#### Get Remote File - MFS Path"
   ]
  },
  {
   "cell_type": "code",
   "execution_count": 18,
   "id": "26252c33-ce41-4214-be91-dd80e9e4a072",
   "metadata": {},
   "outputs": [
    {
     "name": "stdout",
     "output_type": "stream",
     "text": [
      "Before:  []\n",
      "After:  ['data/yo.txt']\n"
     ]
    }
   ],
   "source": [
    "if fs.file.exists('test/data/yo.txt'):\n",
    "    fs.file.rm('test/data/yo.txt')\n",
    "    \n",
    "fs.ipfs.put(lpath='test/data/input/yo.txt', rpath='/test_get_file')\n",
    "print('Before: ', [p.lstrip(os.getcwd()) for p in fs.file.glob('test/data/*.txt')])\n",
    "fs.ipfs.get(rpath='/test_get_file/yo.txt', lpath='test/data',recursive=True, return_cid=False)\n",
    "print('After: ', [p.lstrip(os.getcwd()) for p in fs.file.glob('test/data/*.txt')])"
   ]
  },
  {
   "cell_type": "markdown",
   "id": "9e51c86d",
   "metadata": {},
   "source": [
    "#### Get Remote File - CID Path \n",
    "\n",
    "*not working*"
   ]
  },
  {
   "cell_type": "code",
   "execution_count": 19,
   "id": "f6b6cc64",
   "metadata": {},
   "outputs": [
    {
     "name": "stdout",
     "output_type": "stream",
     "text": [
      "Before:  []\n",
      "After:  []\n"
     ]
    }
   ],
   "source": [
    "if fs.file.exists('test/data/yo.txt'):\n",
    "    fs.file.rm('test/data/yo.txt')\n",
    "    \n",
    "fs.ipfs.put(lpath='test/data/input/yo.txt', rpath='/test_get_file')\n",
    "print('Before: ', [p.lstrip(os.getcwd()) for p in fs.file.glob('test/data/*.txt')])\n",
    "\n",
    "fs.ipfs.get(rpath='QmNuMqLrDoSEZeZxyPWUjFZv9HVYwmHB9n5PEwpfoJyAD6', lpath='test/data',recursive=True, return_cid=False)\n",
    "print('After: ', [p.lstrip(os.getcwd()) for p in fs.file.glob('test/data/*.txt')])"
   ]
  },
  {
   "cell_type": "markdown",
   "id": "5406371e-9dfd-43cc-a3d0-65d97c5a87b5",
   "metadata": {},
   "source": [
    "#### Get Remote Folder - MFS Path"
   ]
  },
  {
   "cell_type": "code",
   "execution_count": 20,
   "id": "bfbf56ef-496a-4aef-ae82-5520300862bb",
   "metadata": {},
   "outputs": [
    {
     "name": "stdout",
     "output_type": "stream",
     "text": [
      "Before:  []\n",
      "After:  ['data/output/bruh.txt', 'data/output/yo.txt']\n"
     ]
    }
   ],
   "source": [
    "if fs.file.exists('test/data/output'):\n",
    "    fs.file.rm('test/data/output', recursive=True)\n",
    "    \n",
    "fs.ipfs.put(lpath='test/data/input', rpath='/test_get_folder')\n",
    "print('Before: ', [p.lstrip(os.getcwd()) for p in fs.file.glob('test/data/output/*.txt')])\n",
    "fs.ipfs.get(rpath='/test_get_folder', lpath='test/data/output',recursive=True, return_cid=False)\n",
    "print('After: ', [p.lstrip(os.getcwd()) for p in fs.file.glob('test/data/output/*.txt')])"
   ]
  },
  {
   "cell_type": "markdown",
   "id": "5525b457",
   "metadata": {},
   "source": [
    "#### Get Remote Folder - CID Path"
   ]
  },
  {
   "cell_type": "code",
   "execution_count": 21,
   "id": "6310f84b",
   "metadata": {},
   "outputs": [
    {
     "name": "stdout",
     "output_type": "stream",
     "text": [
      "Before:  []\n",
      "After:  ['data/output/bruh.txt', 'data/output/yo.txt']\n"
     ]
    }
   ],
   "source": [
    "if fs.file.exists('test/data/output'):\n",
    "    fs.file.rm('test/data/output', recursive=True)\n",
    "    \n",
    "fs.ipfs.put(lpath='test/data/input', rpath='/test_get_folder')\n",
    "print('Before: ', [p.lstrip(os.getcwd()) for p in fs.file.glob('test/data/output/*.txt')])\n",
    "\n",
    "fs.ipfs.get(rpath='Qmdgy8KEqoyU9fWdoqPTUDSYWiRsHZVxebkH7fKyJhQnW7', lpath='test/data/output',recursive=True, return_cid=False)\n",
    "print('After: ', [p.lstrip(os.getcwd()) for p in fs.file.glob('test/data/output/*.txt')])"
   ]
  },
  {
   "cell_type": "markdown",
   "id": "09ad675a",
   "metadata": {},
   "source": [
    "# Public"
   ]
  },
  {
   "cell_type": "code",
   "execution_count": 22,
   "id": "61e0a57d",
   "metadata": {},
   "outputs": [
    {
     "name": "stdout",
     "output_type": "stream",
     "text": [
      "Changed to public node\n"
     ]
    }
   ],
   "source": [
    "fs.ipfs.change_gateway_type = 'public'"
   ]
  },
  {
   "cell_type": "markdown",
   "id": "877c5e3e",
   "metadata": {},
   "source": [
    "## Cat"
   ]
  },
  {
   "cell_type": "markdown",
   "id": "f7fb2063",
   "metadata": {},
   "source": [
    "#### Cat File"
   ]
  },
  {
   "cell_type": "code",
   "execution_count": 3,
   "id": "effe8a3c",
   "metadata": {},
   "outputs": [
    {
     "ename": "ContentTypeError",
     "evalue": "0, message='Attempt to decode JSON with unexpected mimetype: text/plain; charset=utf-8', url=URL('https://ipfs.io/api/v0/files/stat?arg=QmP8jTG1m9GSDJLCbeWhVSVgEzCPPwXRdCRuJtQ5Tz9Kc9')",
     "output_type": "error",
     "traceback": [
      "\u001b[0;31m---------------------------------------------------------------------------\u001b[0m",
      "\u001b[0;31mContentTypeError\u001b[0m                          Traceback (most recent call last)",
      "Input \u001b[0;32mIn [3]\u001b[0m, in \u001b[0;36m<cell line: 2>\u001b[0;34m()\u001b[0m\n\u001b[1;32m      1\u001b[0m \u001b[38;5;66;03m# Given a file CID to cat\u001b[39;00m\n\u001b[0;32m----> 2\u001b[0m r \u001b[38;5;241m=\u001b[39m \u001b[43mfs\u001b[49m\u001b[38;5;241;43m.\u001b[39;49m\u001b[43mipfs\u001b[49m\u001b[38;5;241;43m.\u001b[39;49m\u001b[43mcat\u001b[49m\u001b[43m(\u001b[49m\u001b[38;5;124;43m'\u001b[39;49m\u001b[38;5;124;43mQmP8jTG1m9GSDJLCbeWhVSVgEzCPPwXRdCRuJtQ5Tz9Kc9\u001b[39;49m\u001b[38;5;124;43m'\u001b[39;49m\u001b[43m)\u001b[49m\n",
      "File \u001b[0;32m~/.local/lib/python3.8/site-packages/fsspec/asyn.py:86\u001b[0m, in \u001b[0;36msync_wrapper.<locals>.wrapper\u001b[0;34m(*args, **kwargs)\u001b[0m\n\u001b[1;32m     83\u001b[0m \u001b[38;5;129m@functools\u001b[39m\u001b[38;5;241m.\u001b[39mwraps(func)\n\u001b[1;32m     84\u001b[0m \u001b[38;5;28;01mdef\u001b[39;00m \u001b[38;5;21mwrapper\u001b[39m(\u001b[38;5;241m*\u001b[39margs, \u001b[38;5;241m*\u001b[39m\u001b[38;5;241m*\u001b[39mkwargs):\n\u001b[1;32m     85\u001b[0m     \u001b[38;5;28mself\u001b[39m \u001b[38;5;241m=\u001b[39m obj \u001b[38;5;129;01mor\u001b[39;00m args[\u001b[38;5;241m0\u001b[39m]\n\u001b[0;32m---> 86\u001b[0m     \u001b[38;5;28;01mreturn\u001b[39;00m \u001b[43msync\u001b[49m\u001b[43m(\u001b[49m\u001b[38;5;28;43mself\u001b[39;49m\u001b[38;5;241;43m.\u001b[39;49m\u001b[43mloop\u001b[49m\u001b[43m,\u001b[49m\u001b[43m \u001b[49m\u001b[43mfunc\u001b[49m\u001b[43m,\u001b[49m\u001b[43m \u001b[49m\u001b[38;5;241;43m*\u001b[39;49m\u001b[43margs\u001b[49m\u001b[43m,\u001b[49m\u001b[43m \u001b[49m\u001b[38;5;241;43m*\u001b[39;49m\u001b[38;5;241;43m*\u001b[39;49m\u001b[43mkwargs\u001b[49m\u001b[43m)\u001b[49m\n",
      "File \u001b[0;32m~/.local/lib/python3.8/site-packages/fsspec/asyn.py:66\u001b[0m, in \u001b[0;36msync\u001b[0;34m(loop, func, timeout, *args, **kwargs)\u001b[0m\n\u001b[1;32m     64\u001b[0m     \u001b[38;5;28;01mraise\u001b[39;00m FSTimeoutError \u001b[38;5;28;01mfrom\u001b[39;00m \u001b[38;5;21;01mreturn_result\u001b[39;00m\n\u001b[1;32m     65\u001b[0m \u001b[38;5;28;01melif\u001b[39;00m \u001b[38;5;28misinstance\u001b[39m(return_result, \u001b[38;5;167;01mBaseException\u001b[39;00m):\n\u001b[0;32m---> 66\u001b[0m     \u001b[38;5;28;01mraise\u001b[39;00m return_result\n\u001b[1;32m     67\u001b[0m \u001b[38;5;28;01melse\u001b[39;00m:\n\u001b[1;32m     68\u001b[0m     \u001b[38;5;28;01mreturn\u001b[39;00m return_result\n",
      "File \u001b[0;32m~/.local/lib/python3.8/site-packages/fsspec/asyn.py:26\u001b[0m, in \u001b[0;36m_runner\u001b[0;34m(event, coro, result, timeout)\u001b[0m\n\u001b[1;32m     24\u001b[0m     coro \u001b[38;5;241m=\u001b[39m asyncio\u001b[38;5;241m.\u001b[39mwait_for(coro, timeout\u001b[38;5;241m=\u001b[39mtimeout)\n\u001b[1;32m     25\u001b[0m \u001b[38;5;28;01mtry\u001b[39;00m:\n\u001b[0;32m---> 26\u001b[0m     result[\u001b[38;5;241m0\u001b[39m] \u001b[38;5;241m=\u001b[39m \u001b[38;5;28;01mawait\u001b[39;00m coro\n\u001b[1;32m     27\u001b[0m \u001b[38;5;28;01mexcept\u001b[39;00m \u001b[38;5;167;01mException\u001b[39;00m \u001b[38;5;28;01mas\u001b[39;00m ex:\n\u001b[1;32m     28\u001b[0m     result[\u001b[38;5;241m0\u001b[39m] \u001b[38;5;241m=\u001b[39m ex\n",
      "File \u001b[0;32m~/github/ipfsspec/ipfsspec/asyn.py:433\u001b[0m, in \u001b[0;36mAsyncIPFSFileSystem._cat\u001b[0;34m(self, path, recursive, on_error, batch_size, **kwargs)\u001b[0m\n\u001b[1;32m    429\u001b[0m \u001b[38;5;28;01masync\u001b[39;00m \u001b[38;5;28;01mdef\u001b[39;00m \u001b[38;5;21m_cat\u001b[39m(\n\u001b[1;32m    430\u001b[0m         \u001b[38;5;28mself\u001b[39m, path, recursive\u001b[38;5;241m=\u001b[39m\u001b[38;5;28;01mFalse\u001b[39;00m, on_error\u001b[38;5;241m=\u001b[39m\u001b[38;5;124m\"\u001b[39m\u001b[38;5;124mraise\u001b[39m\u001b[38;5;124m\"\u001b[39m, batch_size\u001b[38;5;241m=\u001b[39m\u001b[38;5;28;01mNone\u001b[39;00m, \u001b[38;5;241m*\u001b[39m\u001b[38;5;241m*\u001b[39mkwargs\n\u001b[1;32m    431\u001b[0m     ):\n\u001b[0;32m--> 433\u001b[0m         \u001b[38;5;28;01mif\u001b[39;00m \u001b[38;5;28;01mawait\u001b[39;00m \u001b[38;5;28mself\u001b[39m\u001b[38;5;241m.\u001b[39m_isdir(path\u001b[38;5;241m=\u001b[39mpath):\n\u001b[1;32m    434\u001b[0m             recursive \u001b[38;5;241m=\u001b[39m \u001b[38;5;28;01mTrue\u001b[39;00m\n\u001b[1;32m    436\u001b[0m         paths \u001b[38;5;241m=\u001b[39m \u001b[38;5;28;01mawait\u001b[39;00m \u001b[38;5;28mself\u001b[39m\u001b[38;5;241m.\u001b[39m_expand_path(path, recursive\u001b[38;5;241m=\u001b[39mrecursive)\n",
      "File \u001b[0;32m~/.local/lib/python3.8/site-packages/fsspec/asyn.py:533\u001b[0m, in \u001b[0;36mAsyncFileSystem._isdir\u001b[0;34m(self, path)\u001b[0m\n\u001b[1;32m    531\u001b[0m \u001b[38;5;28;01masync\u001b[39;00m \u001b[38;5;28;01mdef\u001b[39;00m \u001b[38;5;21m_isdir\u001b[39m(\u001b[38;5;28mself\u001b[39m, path):\n\u001b[1;32m    532\u001b[0m     \u001b[38;5;28;01mtry\u001b[39;00m:\n\u001b[0;32m--> 533\u001b[0m         \u001b[38;5;28;01mreturn\u001b[39;00m (\u001b[38;5;28;01mawait\u001b[39;00m \u001b[38;5;28mself\u001b[39m\u001b[38;5;241m.\u001b[39m_info(path))[\u001b[38;5;124m\"\u001b[39m\u001b[38;5;124mtype\u001b[39m\u001b[38;5;124m\"\u001b[39m] \u001b[38;5;241m==\u001b[39m \u001b[38;5;124m\"\u001b[39m\u001b[38;5;124mdirectory\u001b[39m\u001b[38;5;124m\"\u001b[39m\n\u001b[1;32m    534\u001b[0m     \u001b[38;5;28;01mexcept\u001b[39;00m \u001b[38;5;167;01mIOError\u001b[39;00m:\n\u001b[1;32m    535\u001b[0m         \u001b[38;5;28;01mreturn\u001b[39;00m \u001b[38;5;28;01mFalse\u001b[39;00m\n",
      "File \u001b[0;32m~/github/ipfsspec/ipfsspec/asyn.py:470\u001b[0m, in \u001b[0;36mAsyncIPFSFileSystem._info\u001b[0;34m(self, path, **kwargs)\u001b[0m\n\u001b[1;32m    468\u001b[0m path \u001b[38;5;241m=\u001b[39m \u001b[38;5;28mself\u001b[39m\u001b[38;5;241m.\u001b[39m_strip_protocol(path)\n\u001b[1;32m    469\u001b[0m session \u001b[38;5;241m=\u001b[39m \u001b[38;5;28;01mawait\u001b[39;00m \u001b[38;5;28mself\u001b[39m\u001b[38;5;241m.\u001b[39mset_session()\n\u001b[0;32m--> 470\u001b[0m info \u001b[38;5;241m=\u001b[39m \u001b[38;5;28;01mawait\u001b[39;00m \u001b[38;5;28mself\u001b[39m\u001b[38;5;241m.\u001b[39mgateway\u001b[38;5;241m.\u001b[39mfile_info(session\u001b[38;5;241m=\u001b[39msession, path\u001b[38;5;241m=\u001b[39mpath)\n\u001b[1;32m    471\u001b[0m \u001b[38;5;28;01mreturn\u001b[39;00m info\n",
      "File \u001b[0;32m~/github/ipfsspec/ipfsspec/gateway.py:65\u001b[0m, in \u001b[0;36mAsyncIPFSGatewayBase.file_info\u001b[0;34m(self, session, path)\u001b[0m\n\u001b[1;32m     55\u001b[0m \u001b[38;5;124;03m'''\u001b[39;00m\n\u001b[1;32m     56\u001b[0m \u001b[38;5;124;03mResolves the file info for hash or mfs path:\u001b[39;00m\n\u001b[1;32m     57\u001b[0m \u001b[38;5;124;03m\u001b[39;00m\n\u001b[0;32m   (...)\u001b[0m\n\u001b[1;32m     62\u001b[0m \u001b[38;5;124;03m\u001b[39;00m\n\u001b[1;32m     63\u001b[0m \u001b[38;5;124;03m'''\u001b[39;00m\n\u001b[1;32m     64\u001b[0m info \u001b[38;5;241m=\u001b[39m {\u001b[38;5;124m\"\u001b[39m\u001b[38;5;124mname\u001b[39m\u001b[38;5;124m\"\u001b[39m: path}\n\u001b[0;32m---> 65\u001b[0m path \u001b[38;5;241m=\u001b[39m \u001b[38;5;28;01mawait\u001b[39;00m \u001b[38;5;28mself\u001b[39m\u001b[38;5;241m.\u001b[39mresolve_mfs_path(session\u001b[38;5;241m=\u001b[39msession, path\u001b[38;5;241m=\u001b[39mpath)\n\u001b[1;32m     67\u001b[0m headers \u001b[38;5;241m=\u001b[39m {\u001b[38;5;124m\"\u001b[39m\u001b[38;5;124mAccept-Encoding\u001b[39m\u001b[38;5;124m\"\u001b[39m: \u001b[38;5;124m\"\u001b[39m\u001b[38;5;124midentity\u001b[39m\u001b[38;5;124m\"\u001b[39m}  \u001b[38;5;66;03m# this ensures correct file size\u001b[39;00m\n\u001b[1;32m     68\u001b[0m res \u001b[38;5;241m=\u001b[39m \u001b[38;5;28;01mawait\u001b[39;00m \u001b[38;5;28mself\u001b[39m\u001b[38;5;241m.\u001b[39mcid_head(session\u001b[38;5;241m=\u001b[39msession, path\u001b[38;5;241m=\u001b[39mpath, headers\u001b[38;5;241m=\u001b[39mheaders)\n",
      "File \u001b[0;32m~/github/ipfsspec/ipfsspec/gateway.py:94\u001b[0m, in \u001b[0;36mAsyncIPFSGatewayBase.resolve_mfs_path\u001b[0;34m(self, session, path)\u001b[0m\n\u001b[1;32m     90\u001b[0m \u001b[38;5;28;01masync\u001b[39;00m \u001b[38;5;28;01mdef\u001b[39;00m \u001b[38;5;21mresolve_mfs_path\u001b[39m(\u001b[38;5;28mself\u001b[39m, session, path):\n\u001b[1;32m     91\u001b[0m     \u001b[38;5;66;03m# converts mfs to cid if it exists. If it doesnt, then it returns the original cid\u001b[39;00m\n\u001b[1;32m     93\u001b[0m     res \u001b[38;5;241m=\u001b[39m \u001b[38;5;28;01mawait\u001b[39;00m \u001b[38;5;28mself\u001b[39m\u001b[38;5;241m.\u001b[39mapi_post(endpoint\u001b[38;5;241m=\u001b[39m\u001b[38;5;124m'\u001b[39m\u001b[38;5;124mfiles/stat\u001b[39m\u001b[38;5;124m'\u001b[39m, session\u001b[38;5;241m=\u001b[39msession, arg\u001b[38;5;241m=\u001b[39mpath)\n\u001b[0;32m---> 94\u001b[0m     mfs_hash \u001b[38;5;241m=\u001b[39m (\u001b[38;5;28;01mawait\u001b[39;00m res\u001b[38;5;241m.\u001b[39mjson())\u001b[38;5;241m.\u001b[39mget(\u001b[38;5;124m'\u001b[39m\u001b[38;5;124mHash\u001b[39m\u001b[38;5;124m'\u001b[39m)\n\u001b[1;32m     95\u001b[0m     \u001b[38;5;28;01mif\u001b[39;00m mfs_hash:\n\u001b[1;32m     96\u001b[0m         path \u001b[38;5;241m=\u001b[39m mfs_hash\n",
      "File \u001b[0;32m~/.local/lib/python3.8/site-packages/aiohttp/client_reqrep.py:1103\u001b[0m, in \u001b[0;36mClientResponse.json\u001b[0;34m(self, encoding, loads, content_type)\u001b[0m\n\u001b[1;32m   1101\u001b[0m     ctype \u001b[38;5;241m=\u001b[39m \u001b[38;5;28mself\u001b[39m\u001b[38;5;241m.\u001b[39mheaders\u001b[38;5;241m.\u001b[39mget(hdrs\u001b[38;5;241m.\u001b[39mCONTENT_TYPE, \u001b[38;5;124m\"\u001b[39m\u001b[38;5;124m\"\u001b[39m)\u001b[38;5;241m.\u001b[39mlower()\n\u001b[1;32m   1102\u001b[0m     \u001b[38;5;28;01mif\u001b[39;00m \u001b[38;5;129;01mnot\u001b[39;00m _is_expected_content_type(ctype, content_type):\n\u001b[0;32m-> 1103\u001b[0m         \u001b[38;5;28;01mraise\u001b[39;00m ContentTypeError(\n\u001b[1;32m   1104\u001b[0m             \u001b[38;5;28mself\u001b[39m\u001b[38;5;241m.\u001b[39mrequest_info,\n\u001b[1;32m   1105\u001b[0m             \u001b[38;5;28mself\u001b[39m\u001b[38;5;241m.\u001b[39mhistory,\n\u001b[1;32m   1106\u001b[0m             message\u001b[38;5;241m=\u001b[39m(\n\u001b[1;32m   1107\u001b[0m                 \u001b[38;5;124m\"\u001b[39m\u001b[38;5;124mAttempt to decode JSON with \u001b[39m\u001b[38;5;124m\"\u001b[39m \u001b[38;5;124m\"\u001b[39m\u001b[38;5;124munexpected mimetype: \u001b[39m\u001b[38;5;132;01m%s\u001b[39;00m\u001b[38;5;124m\"\u001b[39m \u001b[38;5;241m%\u001b[39m ctype\n\u001b[1;32m   1108\u001b[0m             ),\n\u001b[1;32m   1109\u001b[0m             headers\u001b[38;5;241m=\u001b[39m\u001b[38;5;28mself\u001b[39m\u001b[38;5;241m.\u001b[39mheaders,\n\u001b[1;32m   1110\u001b[0m         )\n\u001b[1;32m   1112\u001b[0m stripped \u001b[38;5;241m=\u001b[39m \u001b[38;5;28mself\u001b[39m\u001b[38;5;241m.\u001b[39m_body\u001b[38;5;241m.\u001b[39mstrip()  \u001b[38;5;66;03m# type: ignore[union-attr]\u001b[39;00m\n\u001b[1;32m   1113\u001b[0m \u001b[38;5;28;01mif\u001b[39;00m \u001b[38;5;129;01mnot\u001b[39;00m stripped:\n",
      "\u001b[0;31mContentTypeError\u001b[0m: 0, message='Attempt to decode JSON with unexpected mimetype: text/plain; charset=utf-8', url=URL('https://ipfs.io/api/v0/files/stat?arg=QmP8jTG1m9GSDJLCbeWhVSVgEzCPPwXRdCRuJtQ5Tz9Kc9')"
     ]
    }
   ],
   "source": [
    "# Given a file CID to cat\n",
    "r = fs.ipfs.cat('QmP8jTG1m9GSDJLCbeWhVSVgEzCPPwXRdCRuJtQ5Tz9Kc9')"
   ]
  },
  {
   "cell_type": "markdown",
   "id": "48ede6fa",
   "metadata": {},
   "source": [
    "#### Cat Folder"
   ]
  },
  {
   "cell_type": "code",
   "execution_count": null,
   "id": "de7438ff",
   "metadata": {},
   "outputs": [],
   "source": [
    "# Given a directory CID to cat\n",
    "fs.ipfs.cat('Qmdgy8KEqoyU9fWdoqPTUDSYWiRsHZVxebkH7fKyJhQnW7')"
   ]
  },
  {
   "cell_type": "markdown",
   "id": "5c438749",
   "metadata": {},
   "source": [
    "## Get"
   ]
  },
  {
   "cell_type": "markdown",
   "id": "ce3b196e",
   "metadata": {},
   "source": [
    "#### Get Remote File - CID Path \n"
   ]
  },
  {
   "cell_type": "code",
   "execution_count": null,
   "id": "2c90f2a5",
   "metadata": {},
   "outputs": [],
   "source": []
  },
  {
   "cell_type": "markdown",
   "id": "2fc2aa24",
   "metadata": {},
   "source": [
    "#### Get Remote Folder - CID Path"
   ]
  },
  {
   "cell_type": "code",
   "execution_count": null,
   "id": "e3b38837",
   "metadata": {},
   "outputs": [],
   "source": []
  },
  {
   "cell_type": "code",
   "execution_count": null,
   "id": "a61c4a06",
   "metadata": {},
   "outputs": [],
   "source": []
  }
 ],
 "metadata": {
  "kernelspec": {
   "display_name": "Python 3 (ipykernel)",
   "language": "python",
   "name": "python3"
  },
  "language_info": {
   "codemirror_mode": {
    "name": "ipython",
    "version": 3
   },
   "file_extension": ".py",
   "mimetype": "text/x-python",
   "name": "python",
   "nbconvert_exporter": "python",
   "pygments_lexer": "ipython3",
   "version": "3.8.10"
  }
 },
 "nbformat": 4,
 "nbformat_minor": 5
}

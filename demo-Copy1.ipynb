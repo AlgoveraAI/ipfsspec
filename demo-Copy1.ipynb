{
 "cells": [
  {
   "cell_type": "code",
   "execution_count": 1,
   "id": "6266ba01-c9ce-45e6-9819-79580a88647a",
   "metadata": {},
   "outputs": [
    {
     "name": "stdout",
     "output_type": "stream",
     "text": [
      "Changed to public node\n"
     ]
    }
   ],
   "source": [
    "import fsspec\n",
    "import os\n",
    "from ipfsspec.asyn import AsyncIPFSFileSystem\n",
    "from fsspec import register_implementation\n",
    "import asyncio\n",
    "import io\n",
    "\n",
    "# register_implementation(IPFSFileSystem.protocol, IPFSFileSystem)\n",
    "register_implementation(AsyncIPFSFileSystem.protocol, AsyncIPFSFileSystem)\n",
    "\n",
    "# with fsspec.open(\"ipfs://QmZ4tDuvesekSs4qM5ZBKpXiZGun7S2CYtEZRB3DYXkjGx\", \"r\") as f:\n",
    "#     print(f.read())\n",
    "class fs:\n",
    "    ipfs = fsspec.filesystem(\"ipfs\")\n",
    "    file = fsspec.filesystem(\"file\")"
   ]
  },
  {
   "cell_type": "markdown",
   "id": "35a5a479",
   "metadata": {},
   "source": [
    "# Changing Gateways"
   ]
  },
  {
   "cell_type": "code",
   "execution_count": 2,
   "id": "83fadcc1",
   "metadata": {},
   "outputs": [
    {
     "name": "stdout",
     "output_type": "stream",
     "text": [
      "Changed to public node\n"
     ]
    }
   ],
   "source": [
    "fs.ipfs.change_gateway_type = 'public'"
   ]
  },
  {
   "cell_type": "code",
   "execution_count": 3,
   "id": "e471c580",
   "metadata": {},
   "outputs": [
    {
     "data": {
      "text/plain": [
       "[(<ipfsspec.gateway.GatewayState at 0x7f503b620940>,\n",
       "  <ipfsspec.gateway.AsyncIPFSGateway at 0x7f503b620d30>),\n",
       " (<ipfsspec.gateway.GatewayState at 0x7f503b6204f0>,\n",
       "  <ipfsspec.gateway.AsyncIPFSGateway at 0x7f503b620910>),\n",
       " (<ipfsspec.gateway.GatewayState at 0x7f503b620370>,\n",
       "  <ipfsspec.gateway.AsyncIPFSGateway at 0x7f503b620f10>),\n",
       " (<ipfsspec.gateway.GatewayState at 0x7f503b620d00>,\n",
       "  <ipfsspec.gateway.AsyncIPFSGateway at 0x7f503b620e80>)]"
      ]
     },
     "execution_count": 3,
     "metadata": {},
     "output_type": "execute_result"
    }
   ],
   "source": [
    "fs.ipfs.gateway.gws"
   ]
  },
  {
   "cell_type": "code",
   "execution_count": 4,
   "id": "806d4d5e",
   "metadata": {},
   "outputs": [
    {
     "data": {
      "text/plain": [
       "'https://ipfs.io'"
      ]
     },
     "execution_count": 4,
     "metadata": {},
     "output_type": "execute_result"
    }
   ],
   "source": [
    "fs.ipfs.gateway.gws[0][1].url"
   ]
  },
  {
   "cell_type": "code",
   "execution_count": 5,
   "id": "d0886858",
   "metadata": {},
   "outputs": [
    {
     "name": "stdout",
     "output_type": "stream",
     "text": [
      "Changed to local node\n"
     ]
    }
   ],
   "source": [
    "fs.ipfs.change_gateway_type = 'local'"
   ]
  },
  {
   "cell_type": "code",
   "execution_count": 6,
   "id": "b11c7527",
   "metadata": {},
   "outputs": [
    {
     "data": {
      "text/plain": [
       "'http://ipfs:8080'"
      ]
     },
     "execution_count": 6,
     "metadata": {},
     "output_type": "execute_result"
    }
   ],
   "source": [
    "fs.ipfs.gateway.gws[0][1].url"
   ]
  },
  {
   "cell_type": "markdown",
   "id": "6c438925",
   "metadata": {},
   "source": [
    "# Local"
   ]
  },
  {
   "cell_type": "markdown",
   "id": "7484e3aa-0f67-4550-a74d-2fde212ccf3d",
   "metadata": {},
   "source": [
    "## Put"
   ]
  },
  {
   "cell_type": "markdown",
   "id": "e7231dc3-1a89-4fa5-8d76-731b91a44c79",
   "metadata": {},
   "source": [
    "#### Put File"
   ]
  },
  {
   "cell_type": "code",
   "execution_count": 7,
   "id": "4786e066-5a47-4dfa-b373-7f345fa20054",
   "metadata": {},
   "outputs": [
    {
     "data": {
      "text/plain": [
       "['/test_put_file/yo.txt']"
      ]
     },
     "execution_count": 7,
     "metadata": {},
     "output_type": "execute_result"
    }
   ],
   "source": [
    "# put in a file and store it into test folder 'fam'\n",
    "put_file_res = fs.ipfs.put(path='test/data/input/yo.txt', rpath='/test_put_file')\n",
    "fs.ipfs.expand_path('/test_put_file/yo.txt')"
   ]
  },
  {
   "cell_type": "markdown",
   "id": "44f406e6-fb32-4331-8ed5-b09a7d227bdc",
   "metadata": {},
   "source": [
    "#### Put Folder"
   ]
  },
  {
   "cell_type": "code",
   "execution_count": 8,
   "id": "5e9e71a1-f304-4afd-a2f1-fc510d9e78f1",
   "metadata": {},
   "outputs": [
    {
     "data": {
      "text/plain": [
       "[{'name': '/test',\n",
       "  'CID': 'Qmdgy8KEqoyU9fWdoqPTUDSYWiRsHZVxebkH7fKyJhQnW7',\n",
       "  'type': 'directory',\n",
       "  'size': 0},\n",
       " {'name': '/test_get_file',\n",
       "  'CID': 'QmQFuaEFT1pmyDmh8bx5peApmXXoA5D3CxZ1HfxBztt1cj',\n",
       "  'type': 'directory',\n",
       "  'size': 0},\n",
       " {'name': '/test_get_folder',\n",
       "  'CID': 'Qmdgy8KEqoyU9fWdoqPTUDSYWiRsHZVxebkH7fKyJhQnW7',\n",
       "  'type': 'directory',\n",
       "  'size': 0},\n",
       " {'name': '/test_put_file',\n",
       "  'CID': 'QmQFuaEFT1pmyDmh8bx5peApmXXoA5D3CxZ1HfxBztt1cj',\n",
       "  'type': 'directory',\n",
       "  'size': 0},\n",
       " {'name': '/test_put_folder',\n",
       "  'CID': 'Qmdgy8KEqoyU9fWdoqPTUDSYWiRsHZVxebkH7fKyJhQnW7',\n",
       "  'type': 'directory',\n",
       "  'size': 0},\n",
       " {'name': '/test_rm_file',\n",
       "  'CID': 'QmUNLLsPACCz1vLxQVkXqqLX5R1X345qqfHbsf67hvA3Nn',\n",
       "  'type': 'directory',\n",
       "  'size': 0}]"
      ]
     },
     "execution_count": 8,
     "metadata": {},
     "output_type": "execute_result"
    }
   ],
   "source": [
    "# put a directory and store it into test folder\n",
    "fs.ipfs.put(path='test/data/input', rpath='/test_put_folder' ,recursive=True, return_cid=False)\n",
    "fs.ipfs.ls('/')"
   ]
  },
  {
   "cell_type": "markdown",
   "id": "4f9fb7e4",
   "metadata": {},
   "source": [
    "## Cat"
   ]
  },
  {
   "cell_type": "markdown",
   "id": "251147d9",
   "metadata": {},
   "source": [
    "#### Cat File"
   ]
  },
  {
   "cell_type": "code",
   "execution_count": 9,
   "id": "8f04aeab",
   "metadata": {},
   "outputs": [
    {
     "data": {
      "text/plain": [
       "b'yofvervevdfvd'"
      ]
     },
     "execution_count": 9,
     "metadata": {},
     "output_type": "execute_result"
    }
   ],
   "source": [
    "# Given a file CID to cat\n",
    "fs.ipfs.cat('QmNuMqLrDoSEZeZxyPWUjFZv9HVYwmHB9n5PEwpfoJyAD6')"
   ]
  },
  {
   "cell_type": "code",
   "execution_count": 10,
   "id": "396f964b",
   "metadata": {},
   "outputs": [
    {
     "data": {
      "text/plain": [
       "b'yofvervevdfvd'"
      ]
     },
     "execution_count": 10,
     "metadata": {},
     "output_type": "execute_result"
    }
   ],
   "source": [
    "# Given a file mfs to cat\n",
    "fs.ipfs.cat('/test_put_file/yo.txt')"
   ]
  },
  {
   "cell_type": "markdown",
   "id": "f2603f4f",
   "metadata": {},
   "source": [
    "#### Cat Folder"
   ]
  },
  {
   "cell_type": "code",
   "execution_count": 11,
   "id": "d44e40e2",
   "metadata": {},
   "outputs": [
    {
     "data": {
      "text/plain": [
       "{'Qmdgy8KEqoyU9fWdoqPTUDSYWiRsHZVxebkH7fKyJhQnW7/bruh.txt': b'bruuhhhhhhhhh',\n",
       " 'Qmdgy8KEqoyU9fWdoqPTUDSYWiRsHZVxebkH7fKyJhQnW7/yo.txt': b'yofvervevdfvd'}"
      ]
     },
     "execution_count": 11,
     "metadata": {},
     "output_type": "execute_result"
    }
   ],
   "source": [
    "# Given a directory CID to cat\n",
    "fs.ipfs.cat('Qmdgy8KEqoyU9fWdoqPTUDSYWiRsHZVxebkH7fKyJhQnW7')"
   ]
  },
  {
   "cell_type": "code",
   "execution_count": 12,
   "id": "db8c9954",
   "metadata": {},
   "outputs": [
    {
     "data": {
      "text/plain": [
       "{'/test_put_folder/bruh.txt': b'bruuhhhhhhhhh',\n",
       " '/test_put_folder/yo.txt': b'yofvervevdfvd'}"
      ]
     },
     "execution_count": 12,
     "metadata": {},
     "output_type": "execute_result"
    }
   ],
   "source": [
    "# Given a file mfs to cat\n",
    "fs.ipfs.cat('/test_put_folder')"
   ]
  },
  {
   "cell_type": "markdown",
   "id": "6cf8ea27",
   "metadata": {},
   "source": [
    "## Remove"
   ]
  },
  {
   "cell_type": "markdown",
   "id": "84a21d38-c952-4933-8add-94395198ac1c",
   "metadata": {},
   "source": [
    "#### Remove File"
   ]
  },
  {
   "cell_type": "code",
   "execution_count": 15,
   "id": "30177df7-d12c-4220-bf70-6d7ba47b877a",
   "metadata": {},
   "outputs": [
    {
     "name": "stdout",
     "output_type": "stream",
     "text": [
      "Before:  ['/test_rm_file/yo.txt']\n",
      "After:  []\n"
     ]
    }
   ],
   "source": [
    "fs.ipfs.put(path='test/data/input/yo.txt', rpath='/test_rm_file' ,recursive=True, return_cid=False)\n",
    "print('Before: ',fs.ipfs.ls('/test_rm_file', detail=False))\n",
    "fs.ipfs.rm('/test_rm_file/yo.txt')\n",
    "print('After: ',fs.ipfs.ls('/test_rm_file', detail=False))"
   ]
  },
  {
   "cell_type": "markdown",
   "id": "21f44bd4-ed2d-41d8-8fa5-f1ad43d6bb83",
   "metadata": {},
   "source": [
    "#### Remove Folder"
   ]
  },
  {
   "cell_type": "code",
   "execution_count": 16,
   "id": "02c91d7f-8ada-4069-8a58-515e6f5ba6dd",
   "metadata": {},
   "outputs": [
    {
     "name": "stdout",
     "output_type": "stream",
     "text": [
      "Before:  ['/test_rm_folder/input', '/test_rm_folder/output', '/test_rm_folder/outputQmdgy8KEqoyU9fWdoqPTUDSYWiRsHZVxebkH7fKyJhQnW7']\n",
      "After:  []\n"
     ]
    }
   ],
   "source": [
    "fs.ipfs.put(path='test/data', rpath='/test_rm_folder', recursive=True, return_cid=False)\n",
    "print('Before: ',fs.ipfs.ls('/test_rm_folder', detail=False))\n",
    "fs.ipfs.rm('/test_rm_folder')\n",
    "print('After: ',fs.ipfs.ls('/test_rm_folder', detail=False))"
   ]
  },
  {
   "cell_type": "markdown",
   "id": "9349a56c-af22-446e-b4d4-e79378f7d97a",
   "metadata": {},
   "source": [
    "## Get"
   ]
  },
  {
   "cell_type": "markdown",
   "id": "2482eb2b-1e63-407e-b5a8-e222d33a5cbd",
   "metadata": {},
   "source": [
    "#### Get Remote File - MFS Path"
   ]
  },
  {
   "cell_type": "code",
   "execution_count": 18,
   "id": "26252c33-ce41-4214-be91-dd80e9e4a072",
   "metadata": {},
   "outputs": [
    {
     "name": "stdout",
     "output_type": "stream",
     "text": [
      "Before:  []\n",
      "After:  ['test/data/yo.txt']\n"
     ]
    }
   ],
   "source": [
    "if fs.file.exists('test/data/yo.txt'):\n",
    "    fs.file.rm('test/data/yo.txt')\n",
    "    \n",
    "fs.ipfs.put(lpath='test/data/input/yo.txt', rpath='/test_get_file')\n",
    "print('Before: ', [p.lstrip(os.getcwd()) for p in fs.file.glob('/test/data/*.txt')])\n",
    "fs.ipfs.get(rpath='/test_get_file/yo.txt', lpath='test/data',recursive=True, return_cid=False)\n",
    "print('After: ', [p.lstrip(os.getcwd()) for p in fs.file.glob('test/data/*.txt')])"
   ]
  },
  {
   "cell_type": "markdown",
   "id": "9e51c86d",
   "metadata": {},
   "source": [
    "#### Get Remote File - CID Path \n",
    "\n",
    "*not working*"
   ]
  },
  {
   "cell_type": "code",
   "execution_count": 29,
   "id": "ae8b56b5-27ff-48ec-82cb-f2638b0bab0c",
   "metadata": {},
   "outputs": [
    {
     "data": {
      "text/plain": [
       "[None]"
      ]
     },
     "execution_count": 29,
     "metadata": {},
     "output_type": "execute_result"
    }
   ],
   "source": [
    "fs.ipfs.get(rpath='/test_get_file/yo.txt', lpath='test/data')"
   ]
  },
  {
   "cell_type": "code",
   "execution_count": 31,
   "id": "f6b6cc64",
   "metadata": {},
   "outputs": [
    {
     "name": "stdout",
     "output_type": "stream",
     "text": [
      "QmNuMqLrDoSEZeZxyPWUjFZv9HVYwmHB9n5PEwpfoJyAD6\n",
      "Before:  []\n",
      "After:  []\n"
     ]
    }
   ],
   "source": [
    "if fs.file.exists('test/data/yo.txt'):\n",
    "    fs.file.rm('test/data/yo.txt')\n",
    "    \n",
    "cid = fs.ipfs.put(lpath='test/data/input/yo.txt', rpath='/test_get_file')\n",
    "print(cid)\n",
    "print('Before: ', [p.lstrip(os.getcwd()) for p in fs.file.glob('test/data/*.txt')])\n",
    "\n",
    "fs.ipfs.get(rpath=cid', lpath='test/data',recursive=True, return_cid=False)\n",
    "print('After: ', [p.lstrip(os.getcwd()) for p in fs.file.glob('test/data/*.txt')])"
   ]
  },
  {
   "cell_type": "markdown",
   "id": "5406371e-9dfd-43cc-a3d0-65d97c5a87b5",
   "metadata": {},
   "source": [
    "#### Get Remote Folder - MFS Path"
   ]
  },
  {
   "cell_type": "code",
   "execution_count": 17,
   "id": "bfbf56ef-496a-4aef-ae82-5520300862bb",
   "metadata": {},
   "outputs": [
    {
     "name": "stdout",
     "output_type": "stream",
     "text": [
      "Before:  []\n",
      "After:  ['test/data/output/bruh.txt', 'test/data/output/yo.txt']\n"
     ]
    }
   ],
   "source": [
    "if fs.file.exists('test/data/output'):\n",
    "    fs.file.rm('test/data/output', recursive=True)\n",
    "    \n",
    "fs.ipfs.put(lpath='test/data/input', rpath='/test_get_folder')\n",
    "print('Before: ', [p.lstrip(os.getcwd()) for p in fs.file.glob('test/data/output/*.txt')])\n",
    "fs.ipfs.get(rpath='/test_get_folder', lpath='test/data/output',recursive=True, return_cid=False)\n",
    "print('After: ', [p.lstrip(os.getcwd()) for p in fs.file.glob('test/data/output/*.txt')])"
   ]
  },
  {
   "cell_type": "markdown",
   "id": "5525b457",
   "metadata": {},
   "source": [
    "#### Get Remote Folder - CID Path"
   ]
  },
  {
   "cell_type": "code",
   "execution_count": 18,
   "id": "6310f84b",
   "metadata": {},
   "outputs": [
    {
     "name": "stdout",
     "output_type": "stream",
     "text": [
      "Before:  []\n",
      "After:  ['test/data/output/bruh.txt', 'test/data/output/yo.txt']\n"
     ]
    }
   ],
   "source": [
    "if fs.file.exists('test/data/output'):\n",
    "    fs.file.rm('test/data/output', recursive=True)\n",
    "    \n",
    "fs.ipfs.put(lpath='test/data/input', rpath='/test_get_folder')\n",
    "print('Before: ', [p.lstrip(os.getcwd()) for p in fs.file.glob('test/data/output/*.txt')])\n",
    "\n",
    "fs.ipfs.get(rpath='Qmdgy8KEqoyU9fWdoqPTUDSYWiRsHZVxebkH7fKyJhQnW7', lpath='test/data/output',recursive=True, return_cid=False)\n",
    "print('After: ', [p.lstrip(os.getcwd()) for p in fs.file.glob('test/data/output/*.txt')])"
   ]
  },
  {
   "cell_type": "markdown",
   "id": "09ad675a",
   "metadata": {},
   "source": [
    "# Public"
   ]
  },
  {
   "cell_type": "code",
   "execution_count": 19,
   "id": "61e0a57d",
   "metadata": {},
   "outputs": [
    {
     "name": "stdout",
     "output_type": "stream",
     "text": [
      "Changed to public node\n"
     ]
    }
   ],
   "source": [
    "fs.ipfs.change_gateway_type = 'public'"
   ]
  },
  {
   "cell_type": "markdown",
   "id": "877c5e3e",
   "metadata": {},
   "source": [
    "## Cat"
   ]
  },
  {
   "cell_type": "markdown",
   "id": "f7fb2063",
   "metadata": {},
   "source": [
    "#### Cat File"
   ]
  },
  {
   "cell_type": "code",
   "execution_count": 20,
   "id": "effe8a3c",
   "metadata": {},
   "outputs": [
    {
     "name": "stdout",
     "output_type": "stream",
     "text": [
      "dict_keys(['gateway_type', 'url'])\n",
      "QmP8jTG1m9GSDJLCbeWhVSVgEzCPPwXRdCRuJtQ5Tz9Kc9 {'name': 'QmP8jTG1m9GSDJLCbeWhVSVgEzCPPwXRdCRuJtQ5Tz9Kc9'} BRUH <ClientResponse(https://ipfs.io/ipfs/QmP8jTG1m9GSDJLCbeWhVSVgEzCPPwXRdCRuJtQ5Tz9Kc9) [200 OK]>\n",
      "<CIMultiDictProxy('Server': 'openresty', 'Date': 'Wed, 13 Jul 2022 16:10:43 GMT', 'Content-Type': 'text/plain; charset=utf-8', 'Content-Length': '1139', 'Connection': 'keep-alive', 'Vary': 'Accept-Encoding', 'Access-Control-Allow-Methods': 'GET', 'Cache-Control': 'public, max-age=29030400, immutable', 'Etag': '\"QmP8jTG1m9GSDJLCbeWhVSVgEzCPPwXRdCRuJtQ5Tz9Kc9\"', 'X-Ipfs-Gateway-Host': 'ipfs-bank9-am6', 'X-Ipfs-Path': '/ipfs/QmP8jTG1m9GSDJLCbeWhVSVgEzCPPwXRdCRuJtQ5Tz9Kc9', 'X-Ipfs-Roots': 'QmP8jTG1m9GSDJLCbeWhVSVgEzCPPwXRdCRuJtQ5Tz9Kc9', 'X-IPFS-POP': 'ipfs-bank9-am6', 'X-Ipfs-DataSize': '1139', 'Access-Control-Allow-Origin': '*', 'Access-Control-Allow-Methods': 'GET, POST, OPTIONS', 'Access-Control-Allow-Headers': 'X-Requested-With, Range, Content-Range, X-Chunked-Output, X-Stream-Output', 'Access-Control-Expose-Headers': 'Content-Range, X-Chunked-Output, X-Stream-Output', 'X-IPFS-LB-POP': 'gateway-bank2-am6', 'Strict-Transport-Security': 'max-age=31536000; includeSubDomains; preload', 'X-Proxy-Cache': 'HIT', 'Accept-Ranges': 'bytes')>\n",
      "\n",
      "dict_keys(['gateway_type', 'url'])\n",
      "QmP8jTG1m9GSDJLCbeWhVSVgEzCPPwXRdCRuJtQ5Tz9Kc9 {'name': 'QmP8jTG1m9GSDJLCbeWhVSVgEzCPPwXRdCRuJtQ5Tz9Kc9'} BRUH <ClientResponse(https://ipfs.io/ipfs/QmP8jTG1m9GSDJLCbeWhVSVgEzCPPwXRdCRuJtQ5Tz9Kc9) [200 OK]>\n",
      "<CIMultiDictProxy('Server': 'openresty', 'Date': 'Wed, 13 Jul 2022 16:10:43 GMT', 'Content-Type': 'text/plain; charset=utf-8', 'Content-Length': '1139', 'Connection': 'keep-alive', 'Vary': 'Accept-Encoding', 'Access-Control-Allow-Methods': 'GET', 'Cache-Control': 'public, max-age=29030400, immutable', 'Etag': '\"QmP8jTG1m9GSDJLCbeWhVSVgEzCPPwXRdCRuJtQ5Tz9Kc9\"', 'X-Ipfs-Gateway-Host': 'ipfs-bank9-am6', 'X-Ipfs-Path': '/ipfs/QmP8jTG1m9GSDJLCbeWhVSVgEzCPPwXRdCRuJtQ5Tz9Kc9', 'X-Ipfs-Roots': 'QmP8jTG1m9GSDJLCbeWhVSVgEzCPPwXRdCRuJtQ5Tz9Kc9', 'X-IPFS-POP': 'ipfs-bank9-am6', 'X-Ipfs-DataSize': '1139', 'Access-Control-Allow-Origin': '*', 'Access-Control-Allow-Methods': 'GET, POST, OPTIONS', 'Access-Control-Allow-Headers': 'X-Requested-With, Range, Content-Range, X-Chunked-Output, X-Stream-Output', 'Access-Control-Expose-Headers': 'Content-Range, X-Chunked-Output, X-Stream-Output', 'X-IPFS-LB-POP': 'gateway-bank2-am6', 'Strict-Transport-Security': 'max-age=31536000; includeSubDomains; preload', 'X-Proxy-Cache': 'HIT', 'Accept-Ranges': 'bytes')>\n",
      "\n",
      "True info\n",
      "wtf QmP8jTG1m9GSDJLCbeWhVSVgEzCPPwXRdCRuJtQ5Tz9Kc9 True\n",
      "dict_keys(['gateway_type', 'url'])\n",
      "QmP8jTG1m9GSDJLCbeWhVSVgEzCPPwXRdCRuJtQ5Tz9Kc9 {'name': 'QmP8jTG1m9GSDJLCbeWhVSVgEzCPPwXRdCRuJtQ5Tz9Kc9'} BRUH <ClientResponse(https://ipfs.io/ipfs/QmP8jTG1m9GSDJLCbeWhVSVgEzCPPwXRdCRuJtQ5Tz9Kc9) [200 OK]>\n",
      "<CIMultiDictProxy('Server': 'openresty', 'Date': 'Wed, 13 Jul 2022 16:10:43 GMT', 'Content-Type': 'text/plain; charset=utf-8', 'Content-Length': '1139', 'Connection': 'keep-alive', 'Vary': 'Accept-Encoding', 'Access-Control-Allow-Methods': 'GET', 'Cache-Control': 'public, max-age=29030400, immutable', 'Etag': '\"QmP8jTG1m9GSDJLCbeWhVSVgEzCPPwXRdCRuJtQ5Tz9Kc9\"', 'X-Ipfs-Gateway-Host': 'ipfs-bank9-am6', 'X-Ipfs-Path': '/ipfs/QmP8jTG1m9GSDJLCbeWhVSVgEzCPPwXRdCRuJtQ5Tz9Kc9', 'X-Ipfs-Roots': 'QmP8jTG1m9GSDJLCbeWhVSVgEzCPPwXRdCRuJtQ5Tz9Kc9', 'X-IPFS-POP': 'ipfs-bank9-am6', 'X-Ipfs-DataSize': '1139', 'Access-Control-Allow-Origin': '*', 'Access-Control-Allow-Methods': 'GET, POST, OPTIONS', 'Access-Control-Allow-Headers': 'X-Requested-With, Range, Content-Range, X-Chunked-Output, X-Stream-Output', 'Access-Control-Expose-Headers': 'Content-Range, X-Chunked-Output, X-Stream-Output', 'X-IPFS-LB-POP': 'gateway-bank2-am6', 'Strict-Transport-Security': 'max-age=31536000; includeSubDomains; preload', 'X-Proxy-Cache': 'HIT', 'Accept-Ranges': 'bytes')>\n",
      "\n",
      "True info\n",
      "['QmP8jTG1m9GSDJLCbeWhVSVgEzCPPwXRdCRuJtQ5Tz9Kc9'] QmP8jTG1m9GSDJLCbeWhVSVgEzCPPwXRdCRuJtQ5Tz9Kc9\n",
      "dict_keys(['gateway_type', 'url'])\n"
     ]
    }
   ],
   "source": [
    "# Given a file CID to cat\n",
    "r = fs.ipfs.cat('QmP8jTG1m9GSDJLCbeWhVSVgEzCPPwXRdCRuJtQ5Tz9Kc9')"
   ]
  },
  {
   "cell_type": "markdown",
   "id": "48ede6fa",
   "metadata": {},
   "source": [
    "#### Cat Folder"
   ]
  },
  {
   "cell_type": "code",
   "execution_count": 21,
   "id": "de7438ff",
   "metadata": {},
   "outputs": [
    {
     "name": "stdout",
     "output_type": "stream",
     "text": [
      "dict_keys(['gateway_type', 'url'])\n",
      "Qmdgy8KEqoyU9fWdoqPTUDSYWiRsHZVxebkH7fKyJhQnW7 {'name': 'Qmdgy8KEqoyU9fWdoqPTUDSYWiRsHZVxebkH7fKyJhQnW7'} BRUH <ClientResponse(https://ipfs.io/ipfs/Qmdgy8KEqoyU9fWdoqPTUDSYWiRsHZVxebkH7fKyJhQnW7) [200 OK]>\n",
      "<CIMultiDictProxy('Server': 'openresty', 'Date': 'Wed, 13 Jul 2022 16:10:47 GMT', 'Content-Type': 'text/html', 'Connection': 'keep-alive', 'Vary': 'Accept-Encoding', 'Access-Control-Allow-Methods': 'GET', 'Etag': '\"DirIndex-2b567f6r5vvdg_CID-Qmdgy8KEqoyU9fWdoqPTUDSYWiRsHZVxebkH7fKyJhQnW7\"', 'X-Ipfs-Gateway-Host': 'ipfs-bank9-am6', 'X-Ipfs-Path': '/ipfs/Qmdgy8KEqoyU9fWdoqPTUDSYWiRsHZVxebkH7fKyJhQnW7', 'X-Ipfs-Roots': 'Qmdgy8KEqoyU9fWdoqPTUDSYWiRsHZVxebkH7fKyJhQnW7', 'X-IPFS-POP': 'ipfs-bank9-am6', 'Access-Control-Allow-Origin': '*', 'Access-Control-Allow-Methods': 'GET, POST, OPTIONS', 'Access-Control-Allow-Headers': 'X-Requested-With, Range, Content-Range, X-Chunked-Output, X-Stream-Output', 'Access-Control-Expose-Headers': 'Content-Range, X-Chunked-Output, X-Stream-Output', 'X-IPFS-LB-POP': 'gateway-bank2-am6', 'Strict-Transport-Security': 'max-age=31536000; includeSubDomains; preload', 'X-Proxy-Cache': 'HIT')>\n",
      "\n",
      "dict_keys(['gateway_type', 'url'])\n",
      "Qmdgy8KEqoyU9fWdoqPTUDSYWiRsHZVxebkH7fKyJhQnW7 {'name': 'Qmdgy8KEqoyU9fWdoqPTUDSYWiRsHZVxebkH7fKyJhQnW7'} BRUH <ClientResponse(https://ipfs.io/ipfs/Qmdgy8KEqoyU9fWdoqPTUDSYWiRsHZVxebkH7fKyJhQnW7) [200 OK]>\n",
      "<CIMultiDictProxy('Server': 'openresty', 'Date': 'Wed, 13 Jul 2022 16:10:47 GMT', 'Content-Type': 'text/html', 'Connection': 'keep-alive', 'Vary': 'Accept-Encoding', 'Access-Control-Allow-Methods': 'GET', 'Etag': '\"DirIndex-2b567f6r5vvdg_CID-Qmdgy8KEqoyU9fWdoqPTUDSYWiRsHZVxebkH7fKyJhQnW7\"', 'X-Ipfs-Gateway-Host': 'ipfs-bank8-am6', 'X-Ipfs-Path': '/ipfs/Qmdgy8KEqoyU9fWdoqPTUDSYWiRsHZVxebkH7fKyJhQnW7', 'X-Ipfs-Roots': 'Qmdgy8KEqoyU9fWdoqPTUDSYWiRsHZVxebkH7fKyJhQnW7', 'X-IPFS-POP': 'ipfs-bank8-am6', 'Access-Control-Allow-Origin': '*', 'Access-Control-Allow-Methods': 'GET, POST, OPTIONS', 'Access-Control-Allow-Headers': 'X-Requested-With, Range, Content-Range, X-Chunked-Output, X-Stream-Output', 'Access-Control-Expose-Headers': 'Content-Range, X-Chunked-Output, X-Stream-Output', 'X-IPFS-LB-POP': 'gateway-bank1-am6', 'Strict-Transport-Security': 'max-age=31536000; includeSubDomains; preload', 'X-Proxy-Cache': 'HIT')>\n",
      "\n",
      "dict_keys(['gateway_type', 'url'])\n",
      "dict_keys(['gateway_type', 'url'])\n",
      "dict_keys(['gateway_type', 'url'])\n",
      "Qmdgy8KEqoyU9fWdoqPTUDSYWiRsHZVxebkH7fKyJhQnW7 {'name': 'Qmdgy8KEqoyU9fWdoqPTUDSYWiRsHZVxebkH7fKyJhQnW7'} BRUH <ClientResponse(https://ipfs.io/ipfs/Qmdgy8KEqoyU9fWdoqPTUDSYWiRsHZVxebkH7fKyJhQnW7) [200 OK]>\n",
      "<CIMultiDictProxy('Server': 'openresty', 'Date': 'Wed, 13 Jul 2022 16:10:47 GMT', 'Content-Type': 'text/html', 'Connection': 'keep-alive', 'Vary': 'Accept-Encoding', 'Access-Control-Allow-Methods': 'GET', 'Etag': '\"DirIndex-2b567f6r5vvdg_CID-Qmdgy8KEqoyU9fWdoqPTUDSYWiRsHZVxebkH7fKyJhQnW7\"', 'X-Ipfs-Gateway-Host': 'ipfs-bank8-am6', 'X-Ipfs-Path': '/ipfs/Qmdgy8KEqoyU9fWdoqPTUDSYWiRsHZVxebkH7fKyJhQnW7', 'X-Ipfs-Roots': 'Qmdgy8KEqoyU9fWdoqPTUDSYWiRsHZVxebkH7fKyJhQnW7', 'X-IPFS-POP': 'ipfs-bank8-am6', 'Access-Control-Allow-Origin': '*', 'Access-Control-Allow-Methods': 'GET, POST, OPTIONS', 'Access-Control-Allow-Headers': 'X-Requested-With, Range, Content-Range, X-Chunked-Output, X-Stream-Output', 'Access-Control-Expose-Headers': 'Content-Range, X-Chunked-Output, X-Stream-Output', 'X-IPFS-LB-POP': 'gateway-bank1-am6', 'Strict-Transport-Security': 'max-age=31536000; includeSubDomains; preload', 'X-Proxy-Cache': 'HIT')>\n",
      "\n",
      "False info\n",
      "wtf Qmdgy8KEqoyU9fWdoqPTUDSYWiRsHZVxebkH7fKyJhQnW7 False\n",
      "dict_keys(['gateway_type', 'url'])\n",
      "Qmdgy8KEqoyU9fWdoqPTUDSYWiRsHZVxebkH7fKyJhQnW7/yo.txt {'name': 'Qmdgy8KEqoyU9fWdoqPTUDSYWiRsHZVxebkH7fKyJhQnW7/yo.txt'} BRUH <ClientResponse(https://ipfs.io/ipfs/Qmdgy8KEqoyU9fWdoqPTUDSYWiRsHZVxebkH7fKyJhQnW7/yo.txt) [200 OK]>\n",
      "<CIMultiDictProxy('Server': 'openresty', 'Date': 'Wed, 13 Jul 2022 16:10:47 GMT', 'Content-Type': 'text/plain; charset=utf-8', 'Content-Length': '13', 'Connection': 'keep-alive', 'Access-Control-Allow-Methods': 'GET', 'Cache-Control': 'public, max-age=29030400, immutable', 'Etag': '\"QmNuMqLrDoSEZeZxyPWUjFZv9HVYwmHB9n5PEwpfoJyAD6\"', 'X-Ipfs-Gateway-Host': 'ipfs-bank2-am6', 'X-Ipfs-Path': '/ipfs/Qmdgy8KEqoyU9fWdoqPTUDSYWiRsHZVxebkH7fKyJhQnW7/yo.txt', 'X-Ipfs-Roots': 'Qmdgy8KEqoyU9fWdoqPTUDSYWiRsHZVxebkH7fKyJhQnW7,QmNuMqLrDoSEZeZxyPWUjFZv9HVYwmHB9n5PEwpfoJyAD6', 'X-IPFS-POP': 'ipfs-bank2-am6', 'X-Ipfs-DataSize': '13', 'Access-Control-Allow-Origin': '*', 'Access-Control-Allow-Methods': 'GET, POST, OPTIONS', 'Access-Control-Allow-Headers': 'X-Requested-With, Range, Content-Range, X-Chunked-Output, X-Stream-Output', 'Access-Control-Expose-Headers': 'Content-Range, X-Chunked-Output, X-Stream-Output', 'X-IPFS-LB-POP': 'gateway-bank1-am6', 'Strict-Transport-Security': 'max-age=31536000; includeSubDomains; preload', 'X-Proxy-Cache': 'HIT', 'Accept-Ranges': 'bytes')>\n",
      "\n",
      "True info\n",
      "wtf Qmdgy8KEqoyU9fWdoqPTUDSYWiRsHZVxebkH7fKyJhQnW7/yo.txt True\n",
      "dict_keys(['gateway_type', 'url'])\n",
      "Qmdgy8KEqoyU9fWdoqPTUDSYWiRsHZVxebkH7fKyJhQnW7/bruh.txt {'name': 'Qmdgy8KEqoyU9fWdoqPTUDSYWiRsHZVxebkH7fKyJhQnW7/bruh.txt'} BRUH <ClientResponse(https://ipfs.io/ipfs/Qmdgy8KEqoyU9fWdoqPTUDSYWiRsHZVxebkH7fKyJhQnW7/bruh.txt) [200 OK]>\n",
      "<CIMultiDictProxy('Server': 'openresty', 'Date': 'Wed, 13 Jul 2022 16:10:47 GMT', 'Content-Type': 'text/plain; charset=utf-8', 'Content-Length': '13', 'Connection': 'keep-alive', 'Access-Control-Allow-Methods': 'GET', 'Cache-Control': 'public, max-age=29030400, immutable', 'Etag': '\"QmT9N3Kpo2qg7anf1fvNDFnheSrHat4Xu5fRte7tNG2AYH\"', 'X-Ipfs-Gateway-Host': 'ipfs-bank5-am6', 'X-Ipfs-Path': '/ipfs/Qmdgy8KEqoyU9fWdoqPTUDSYWiRsHZVxebkH7fKyJhQnW7/bruh.txt', 'X-Ipfs-Roots': 'Qmdgy8KEqoyU9fWdoqPTUDSYWiRsHZVxebkH7fKyJhQnW7,QmT9N3Kpo2qg7anf1fvNDFnheSrHat4Xu5fRte7tNG2AYH', 'X-IPFS-POP': 'ipfs-bank5-am6', 'X-Ipfs-DataSize': '13', 'Access-Control-Allow-Origin': '*', 'Access-Control-Allow-Methods': 'GET, POST, OPTIONS', 'Access-Control-Allow-Headers': 'X-Requested-With, Range, Content-Range, X-Chunked-Output, X-Stream-Output', 'Access-Control-Expose-Headers': 'Content-Range, X-Chunked-Output, X-Stream-Output', 'X-IPFS-LB-POP': 'gateway-bank1-am6', 'Strict-Transport-Security': 'max-age=31536000; includeSubDomains; preload', 'X-Proxy-Cache': 'MISS', 'Accept-Ranges': 'bytes')>\n",
      "\n",
      "True info\n",
      "wtf Qmdgy8KEqoyU9fWdoqPTUDSYWiRsHZVxebkH7fKyJhQnW7/bruh.txt True\n",
      "dict_keys(['gateway_type', 'url'])\n",
      "Qmdgy8KEqoyU9fWdoqPTUDSYWiRsHZVxebkH7fKyJhQnW7/yo.txt {'name': 'Qmdgy8KEqoyU9fWdoqPTUDSYWiRsHZVxebkH7fKyJhQnW7/yo.txt'} BRUH <ClientResponse(https://ipfs.io/ipfs/Qmdgy8KEqoyU9fWdoqPTUDSYWiRsHZVxebkH7fKyJhQnW7/yo.txt) [200 OK]>\n",
      "<CIMultiDictProxy('Server': 'openresty', 'Date': 'Wed, 13 Jul 2022 16:10:47 GMT', 'Content-Type': 'text/plain; charset=utf-8', 'Content-Length': '13', 'Connection': 'keep-alive', 'Access-Control-Allow-Methods': 'GET', 'Cache-Control': 'public, max-age=29030400, immutable', 'Etag': '\"QmNuMqLrDoSEZeZxyPWUjFZv9HVYwmHB9n5PEwpfoJyAD6\"', 'X-Ipfs-Gateway-Host': 'ipfs-bank2-am6', 'X-Ipfs-Path': '/ipfs/Qmdgy8KEqoyU9fWdoqPTUDSYWiRsHZVxebkH7fKyJhQnW7/yo.txt', 'X-Ipfs-Roots': 'Qmdgy8KEqoyU9fWdoqPTUDSYWiRsHZVxebkH7fKyJhQnW7,QmNuMqLrDoSEZeZxyPWUjFZv9HVYwmHB9n5PEwpfoJyAD6', 'X-IPFS-POP': 'ipfs-bank2-am6', 'X-Ipfs-DataSize': '13', 'Access-Control-Allow-Origin': '*', 'Access-Control-Allow-Methods': 'GET, POST, OPTIONS', 'Access-Control-Allow-Headers': 'X-Requested-With, Range, Content-Range, X-Chunked-Output, X-Stream-Output', 'Access-Control-Expose-Headers': 'Content-Range, X-Chunked-Output, X-Stream-Output', 'X-IPFS-LB-POP': 'gateway-bank1-am6', 'Strict-Transport-Security': 'max-age=31536000; includeSubDomains; preload', 'X-Proxy-Cache': 'HIT', 'Accept-Ranges': 'bytes')>\n",
      "\n",
      "True info\n",
      "Qmdgy8KEqoyU9fWdoqPTUDSYWiRsHZVxebkH7fKyJhQnW7/bruh.txt {'name': 'Qmdgy8KEqoyU9fWdoqPTUDSYWiRsHZVxebkH7fKyJhQnW7/bruh.txt'} BRUH <ClientResponse(https://ipfs.io/ipfs/Qmdgy8KEqoyU9fWdoqPTUDSYWiRsHZVxebkH7fKyJhQnW7/bruh.txt) [200 OK]>\n",
      "<CIMultiDictProxy('Server': 'openresty', 'Date': 'Wed, 13 Jul 2022 16:10:47 GMT', 'Content-Type': 'text/plain; charset=utf-8', 'Content-Length': '13', 'Connection': 'keep-alive', 'Access-Control-Allow-Methods': 'GET', 'Cache-Control': 'public, max-age=29030400, immutable', 'Etag': '\"QmT9N3Kpo2qg7anf1fvNDFnheSrHat4Xu5fRte7tNG2AYH\"', 'X-Ipfs-Gateway-Host': 'ipfs-bank2-am6', 'X-Ipfs-Path': '/ipfs/Qmdgy8KEqoyU9fWdoqPTUDSYWiRsHZVxebkH7fKyJhQnW7/bruh.txt', 'X-Ipfs-Roots': 'Qmdgy8KEqoyU9fWdoqPTUDSYWiRsHZVxebkH7fKyJhQnW7,QmT9N3Kpo2qg7anf1fvNDFnheSrHat4Xu5fRte7tNG2AYH', 'X-IPFS-POP': 'ipfs-bank2-am6', 'X-Ipfs-DataSize': '13', 'Access-Control-Allow-Origin': '*', 'Access-Control-Allow-Methods': 'GET, POST, OPTIONS', 'Access-Control-Allow-Headers': 'X-Requested-With, Range, Content-Range, X-Chunked-Output, X-Stream-Output', 'Access-Control-Expose-Headers': 'Content-Range, X-Chunked-Output, X-Stream-Output', 'X-IPFS-LB-POP': 'gateway-bank1-am6', 'Strict-Transport-Security': 'max-age=31536000; includeSubDomains; preload', 'X-Proxy-Cache': 'MISS', 'Accept-Ranges': 'bytes')>\n",
      "\n",
      "True info\n",
      "Qmdgy8KEqoyU9fWdoqPTUDSYWiRsHZVxebkH7fKyJhQnW7 {'name': 'Qmdgy8KEqoyU9fWdoqPTUDSYWiRsHZVxebkH7fKyJhQnW7'} BRUH <ClientResponse(https://ipfs.io/ipfs/Qmdgy8KEqoyU9fWdoqPTUDSYWiRsHZVxebkH7fKyJhQnW7) [200 OK]>\n",
      "<CIMultiDictProxy('Server': 'openresty', 'Date': 'Wed, 13 Jul 2022 16:10:48 GMT', 'Content-Type': 'text/html', 'Connection': 'keep-alive', 'Vary': 'Accept-Encoding', 'Access-Control-Allow-Methods': 'GET', 'Etag': '\"DirIndex-2b567f6r5vvdg_CID-Qmdgy8KEqoyU9fWdoqPTUDSYWiRsHZVxebkH7fKyJhQnW7\"', 'X-Ipfs-Gateway-Host': 'ipfs-bank8-am6', 'X-Ipfs-Path': '/ipfs/Qmdgy8KEqoyU9fWdoqPTUDSYWiRsHZVxebkH7fKyJhQnW7', 'X-Ipfs-Roots': 'Qmdgy8KEqoyU9fWdoqPTUDSYWiRsHZVxebkH7fKyJhQnW7', 'X-IPFS-POP': 'ipfs-bank8-am6', 'Access-Control-Allow-Origin': '*', 'Access-Control-Allow-Methods': 'GET, POST, OPTIONS', 'Access-Control-Allow-Headers': 'X-Requested-With, Range, Content-Range, X-Chunked-Output, X-Stream-Output', 'Access-Control-Expose-Headers': 'Content-Range, X-Chunked-Output, X-Stream-Output', 'X-IPFS-LB-POP': 'gateway-bank1-am6', 'Strict-Transport-Security': 'max-age=31536000; includeSubDomains; preload', 'X-Proxy-Cache': 'HIT')>\n",
      "\n",
      "False info\n",
      "['Qmdgy8KEqoyU9fWdoqPTUDSYWiRsHZVxebkH7fKyJhQnW7/bruh.txt', 'Qmdgy8KEqoyU9fWdoqPTUDSYWiRsHZVxebkH7fKyJhQnW7/yo.txt'] Qmdgy8KEqoyU9fWdoqPTUDSYWiRsHZVxebkH7fKyJhQnW7\n",
      "dict_keys(['gateway_type', 'url'])\n",
      "dict_keys(['gateway_type', 'url'])\n"
     ]
    },
    {
     "data": {
      "text/plain": [
       "{'Qmdgy8KEqoyU9fWdoqPTUDSYWiRsHZVxebkH7fKyJhQnW7/bruh.txt': b'bruuhhhhhhhhh',\n",
       " 'Qmdgy8KEqoyU9fWdoqPTUDSYWiRsHZVxebkH7fKyJhQnW7/yo.txt': b'yofvervevdfvd'}"
      ]
     },
     "execution_count": 21,
     "metadata": {},
     "output_type": "execute_result"
    }
   ],
   "source": [
    "# Given a directory CID to cat\n",
    "fs.ipfs.cat('Qmdgy8KEqoyU9fWdoqPTUDSYWiRsHZVxebkH7fKyJhQnW7')"
   ]
  },
  {
   "cell_type": "markdown",
   "id": "5c438749",
   "metadata": {},
   "source": [
    "## Get"
   ]
  },
  {
   "cell_type": "markdown",
   "id": "ce3b196e",
   "metadata": {},
   "source": [
    "#### Get Remote File - CID Path \n"
   ]
  },
  {
   "cell_type": "code",
   "execution_count": null,
   "id": "2c90f2a5",
   "metadata": {},
   "outputs": [],
   "source": []
  },
  {
   "cell_type": "markdown",
   "id": "2fc2aa24",
   "metadata": {},
   "source": [
    "#### Get Remote Folder - CID Path"
   ]
  },
  {
   "cell_type": "code",
   "execution_count": null,
   "id": "e3b38837",
   "metadata": {},
   "outputs": [],
   "source": []
  },
  {
   "cell_type": "code",
   "execution_count": null,
   "id": "a61c4a06",
   "metadata": {},
   "outputs": [],
   "source": []
  }
 ],
 "metadata": {
  "kernelspec": {
   "display_name": "Python 3 (ipykernel)",
   "language": "python",
   "name": "python3"
  },
  "language_info": {
   "codemirror_mode": {
    "name": "ipython",
    "version": 3
   },
   "file_extension": ".py",
   "mimetype": "text/x-python",
   "name": "python",
   "nbconvert_exporter": "python",
   "pygments_lexer": "ipython3",
   "version": "3.8.2"
  }
 },
 "nbformat": 4,
 "nbformat_minor": 5
}
